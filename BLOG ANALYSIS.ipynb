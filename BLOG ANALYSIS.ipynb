{
 "cells": [
  {
   "cell_type": "markdown",
   "metadata": {},
   "source": [
    "## ABOUT :"
   ]
  },
  {
   "cell_type": "markdown",
   "metadata": {},
   "source": [
    "#### GPT-3 is also a large-scale transformer-based language model, which is trained on 175 billion parameters and is 10x more than previous models. The company has showcased its extraordinary performances for tasks like translation, Q&A, and unscrambling words. \n",
    "#### This third-generation language prediction model is autoregressive in nature and works like traditional models where it takes the input vector words and predicts the outputs based on its training. With unsupervised machine learning and few-shot learning, this model works in context."
   ]
  },
  {
   "cell_type": "markdown",
   "metadata": {},
   "source": [
    "This Blog is about the recently launched NLP model - GPT-3. Surpassing previous models’ capabilities and accuracy, OpenAI created one of the most controversial pre-trained NLP models — GPT-3, after its major setback with GPT-2. In this Blog, i have majorly focussed on the GPT-3 Model, how it is replacing the Python environment in realtime industry scenario, why it has been adopted so fast and what are the consequences in the coming times. How it can contribute to different NLP models in a newly born environment.\n",
    "Lets try to analyse the Blog using NLP practise."
   ]
  },
  {
   "cell_type": "markdown",
   "metadata": {},
   "source": [
    "### We need to perform investigative and detective analysis of our data to see if we can unearth any insights."
   ]
  },
  {
   "cell_type": "code",
   "execution_count": 42,
   "metadata": {},
   "outputs": [
    {
     "name": "stderr",
     "output_type": "stream",
     "text": [
      "[nltk_data] Downloading collection 'book'\n",
      "[nltk_data]    | \n",
      "[nltk_data]    | Downloading package abc to\n",
      "[nltk_data]    |     C:\\Users\\lenovo\\AppData\\Roaming\\nltk_data...\n",
      "[nltk_data]    |   Package abc is already up-to-date!\n",
      "[nltk_data]    | Downloading package brown to\n",
      "[nltk_data]    |     C:\\Users\\lenovo\\AppData\\Roaming\\nltk_data...\n",
      "[nltk_data]    |   Package brown is already up-to-date!\n",
      "[nltk_data]    | Downloading package chat80 to\n",
      "[nltk_data]    |     C:\\Users\\lenovo\\AppData\\Roaming\\nltk_data...\n",
      "[nltk_data]    |   Package chat80 is already up-to-date!\n",
      "[nltk_data]    | Downloading package cmudict to\n",
      "[nltk_data]    |     C:\\Users\\lenovo\\AppData\\Roaming\\nltk_data...\n",
      "[nltk_data]    |   Package cmudict is already up-to-date!\n",
      "[nltk_data]    | Downloading package conll2000 to\n",
      "[nltk_data]    |     C:\\Users\\lenovo\\AppData\\Roaming\\nltk_data...\n",
      "[nltk_data]    |   Package conll2000 is already up-to-date!\n",
      "[nltk_data]    | Downloading package conll2002 to\n",
      "[nltk_data]    |     C:\\Users\\lenovo\\AppData\\Roaming\\nltk_data...\n",
      "[nltk_data]    |   Package conll2002 is already up-to-date!\n",
      "[nltk_data]    | Downloading package dependency_treebank to\n",
      "[nltk_data]    |     C:\\Users\\lenovo\\AppData\\Roaming\\nltk_data...\n",
      "[nltk_data]    |   Package dependency_treebank is already up-to-date!\n",
      "[nltk_data]    | Downloading package genesis to\n",
      "[nltk_data]    |     C:\\Users\\lenovo\\AppData\\Roaming\\nltk_data...\n",
      "[nltk_data]    |   Package genesis is already up-to-date!\n",
      "[nltk_data]    | Downloading package gutenberg to\n",
      "[nltk_data]    |     C:\\Users\\lenovo\\AppData\\Roaming\\nltk_data...\n",
      "[nltk_data]    |   Package gutenberg is already up-to-date!\n",
      "[nltk_data]    | Downloading package ieer to\n",
      "[nltk_data]    |     C:\\Users\\lenovo\\AppData\\Roaming\\nltk_data...\n",
      "[nltk_data]    |   Package ieer is already up-to-date!\n",
      "[nltk_data]    | Downloading package inaugural to\n",
      "[nltk_data]    |     C:\\Users\\lenovo\\AppData\\Roaming\\nltk_data...\n",
      "[nltk_data]    |   Package inaugural is already up-to-date!\n",
      "[nltk_data]    | Downloading package movie_reviews to\n",
      "[nltk_data]    |     C:\\Users\\lenovo\\AppData\\Roaming\\nltk_data...\n",
      "[nltk_data]    |   Package movie_reviews is already up-to-date!\n",
      "[nltk_data]    | Downloading package nps_chat to\n",
      "[nltk_data]    |     C:\\Users\\lenovo\\AppData\\Roaming\\nltk_data...\n",
      "[nltk_data]    |   Package nps_chat is already up-to-date!\n",
      "[nltk_data]    | Downloading package names to\n",
      "[nltk_data]    |     C:\\Users\\lenovo\\AppData\\Roaming\\nltk_data...\n",
      "[nltk_data]    |   Package names is already up-to-date!\n",
      "[nltk_data]    | Downloading package ppattach to\n",
      "[nltk_data]    |     C:\\Users\\lenovo\\AppData\\Roaming\\nltk_data...\n",
      "[nltk_data]    |   Package ppattach is already up-to-date!\n",
      "[nltk_data]    | Downloading package reuters to\n",
      "[nltk_data]    |     C:\\Users\\lenovo\\AppData\\Roaming\\nltk_data...\n",
      "[nltk_data]    |   Package reuters is already up-to-date!\n",
      "[nltk_data]    | Downloading package senseval to\n",
      "[nltk_data]    |     C:\\Users\\lenovo\\AppData\\Roaming\\nltk_data...\n",
      "[nltk_data]    |   Package senseval is already up-to-date!\n",
      "[nltk_data]    | Downloading package state_union to\n",
      "[nltk_data]    |     C:\\Users\\lenovo\\AppData\\Roaming\\nltk_data...\n",
      "[nltk_data]    |   Package state_union is already up-to-date!\n",
      "[nltk_data]    | Downloading package stopwords to\n",
      "[nltk_data]    |     C:\\Users\\lenovo\\AppData\\Roaming\\nltk_data...\n",
      "[nltk_data]    |   Package stopwords is already up-to-date!\n",
      "[nltk_data]    | Downloading package swadesh to\n",
      "[nltk_data]    |     C:\\Users\\lenovo\\AppData\\Roaming\\nltk_data...\n",
      "[nltk_data]    |   Package swadesh is already up-to-date!\n",
      "[nltk_data]    | Downloading package timit to\n",
      "[nltk_data]    |     C:\\Users\\lenovo\\AppData\\Roaming\\nltk_data...\n",
      "[nltk_data]    |   Package timit is already up-to-date!\n",
      "[nltk_data]    | Downloading package treebank to\n",
      "[nltk_data]    |     C:\\Users\\lenovo\\AppData\\Roaming\\nltk_data...\n",
      "[nltk_data]    |   Package treebank is already up-to-date!\n",
      "[nltk_data]    | Downloading package toolbox to\n",
      "[nltk_data]    |     C:\\Users\\lenovo\\AppData\\Roaming\\nltk_data...\n",
      "[nltk_data]    |   Package toolbox is already up-to-date!\n",
      "[nltk_data]    | Downloading package udhr to\n",
      "[nltk_data]    |     C:\\Users\\lenovo\\AppData\\Roaming\\nltk_data...\n",
      "[nltk_data]    |   Package udhr is already up-to-date!\n",
      "[nltk_data]    | Downloading package udhr2 to\n",
      "[nltk_data]    |     C:\\Users\\lenovo\\AppData\\Roaming\\nltk_data...\n",
      "[nltk_data]    |   Package udhr2 is already up-to-date!\n",
      "[nltk_data]    | Downloading package unicode_samples to\n",
      "[nltk_data]    |     C:\\Users\\lenovo\\AppData\\Roaming\\nltk_data...\n",
      "[nltk_data]    |   Package unicode_samples is already up-to-date!\n",
      "[nltk_data]    | Downloading package webtext to\n",
      "[nltk_data]    |     C:\\Users\\lenovo\\AppData\\Roaming\\nltk_data...\n",
      "[nltk_data]    |   Package webtext is already up-to-date!\n",
      "[nltk_data]    | Downloading package wordnet to\n",
      "[nltk_data]    |     C:\\Users\\lenovo\\AppData\\Roaming\\nltk_data...\n",
      "[nltk_data]    |   Package wordnet is already up-to-date!\n",
      "[nltk_data]    | Downloading package wordnet_ic to\n",
      "[nltk_data]    |     C:\\Users\\lenovo\\AppData\\Roaming\\nltk_data...\n",
      "[nltk_data]    |   Package wordnet_ic is already up-to-date!\n",
      "[nltk_data]    | Downloading package words to\n",
      "[nltk_data]    |     C:\\Users\\lenovo\\AppData\\Roaming\\nltk_data...\n",
      "[nltk_data]    |   Package words is already up-to-date!\n",
      "[nltk_data]    | Downloading package maxent_treebank_pos_tagger to\n",
      "[nltk_data]    |     C:\\Users\\lenovo\\AppData\\Roaming\\nltk_data...\n",
      "[nltk_data]    |   Package maxent_treebank_pos_tagger is already up-\n",
      "[nltk_data]    |       to-date!\n",
      "[nltk_data]    | Downloading package maxent_ne_chunker to\n",
      "[nltk_data]    |     C:\\Users\\lenovo\\AppData\\Roaming\\nltk_data...\n",
      "[nltk_data]    |   Package maxent_ne_chunker is already up-to-date!\n",
      "[nltk_data]    | Downloading package universal_tagset to\n",
      "[nltk_data]    |     C:\\Users\\lenovo\\AppData\\Roaming\\nltk_data...\n",
      "[nltk_data]    |   Package universal_tagset is already up-to-date!\n",
      "[nltk_data]    | Downloading package punkt to\n",
      "[nltk_data]    |     C:\\Users\\lenovo\\AppData\\Roaming\\nltk_data...\n",
      "[nltk_data]    |   Package punkt is already up-to-date!\n",
      "[nltk_data]    | Downloading package book_grammars to\n",
      "[nltk_data]    |     C:\\Users\\lenovo\\AppData\\Roaming\\nltk_data...\n",
      "[nltk_data]    |   Package book_grammars is already up-to-date!\n",
      "[nltk_data]    | Downloading package city_database to\n",
      "[nltk_data]    |     C:\\Users\\lenovo\\AppData\\Roaming\\nltk_data...\n",
      "[nltk_data]    |   Package city_database is already up-to-date!\n",
      "[nltk_data]    | Downloading package tagsets to\n",
      "[nltk_data]    |     C:\\Users\\lenovo\\AppData\\Roaming\\nltk_data...\n",
      "[nltk_data]    |   Package tagsets is already up-to-date!\n",
      "[nltk_data]    | Downloading package panlex_swadesh to\n",
      "[nltk_data]    |     C:\\Users\\lenovo\\AppData\\Roaming\\nltk_data...\n",
      "[nltk_data]    |   Package panlex_swadesh is already up-to-date!\n",
      "[nltk_data]    | Downloading package averaged_perceptron_tagger to\n",
      "[nltk_data]    |     C:\\Users\\lenovo\\AppData\\Roaming\\nltk_data...\n",
      "[nltk_data]    |   Package averaged_perceptron_tagger is already up-\n",
      "[nltk_data]    |       to-date!\n",
      "[nltk_data]    | \n",
      "[nltk_data]  Done downloading collection book\n"
     ]
    },
    {
     "name": "stdout",
     "output_type": "stream",
     "text": [
      "*** Introductory Examples for the NLTK Book ***\n",
      "Loading text1, ..., text9 and sent1, ..., sent9\n",
      "Type the name of the text or sentence to view it.\n",
      "Type: 'texts()' or 'sents()' to list the materials.\n",
      "text1: Moby Dick by Herman Melville 1851\n",
      "text2: Sense and Sensibility by Jane Austen 1811\n",
      "text3: The Book of Genesis\n",
      "text4: Inaugural Address Corpus\n",
      "text5: Chat Corpus\n",
      "text6: Monty Python and the Holy Grail\n",
      "text7: Wall Street Journal\n",
      "text8: Personals Corpus\n",
      "text9: The Man Who Was Thursday by G . K . Chesterton 1908\n"
     ]
    },
    {
     "name": "stderr",
     "output_type": "stream",
     "text": [
      "[nltk_data] Downloading package punkt to\n",
      "[nltk_data]     C:\\Users\\lenovo\\AppData\\Roaming\\nltk_data...\n",
      "[nltk_data]   Package punkt is already up-to-date!\n",
      "[nltk_data] Downloading package wordnet to\n",
      "[nltk_data]     C:\\Users\\lenovo\\AppData\\Roaming\\nltk_data...\n",
      "[nltk_data]   Package wordnet is already up-to-date!\n"
     ]
    },
    {
     "data": {
      "text/plain": [
       "True"
      ]
     },
     "execution_count": 42,
     "metadata": {},
     "output_type": "execute_result"
    }
   ],
   "source": [
    "import pandas as pd\n",
    "import numpy as np\n",
    "import scipy as sp\n",
    "import re\n",
    "import string\n",
    "from sklearn.model_selection import train_test_split\n",
    "from sklearn.feature_extraction.text import CountVectorizer, TfidfVectorizer\n",
    "from sklearn.naive_bayes import MultinomialNB\n",
    "from sklearn.linear_model import LogisticRegression\n",
    "from sklearn import metrics\n",
    "from textblob import TextBlob, Word\n",
    "from nltk.stem.snowball import SnowballStemmer\n",
    "%matplotlib inline\n",
    "import nltk\n",
    "nltk.download(\"book\")\n",
    "from nltk.book import *\n",
    "nltk.download('punkt')\n",
    "nltk.download('wordnet')"
   ]
  },
  {
   "cell_type": "code",
   "execution_count": 2,
   "metadata": {},
   "outputs": [],
   "source": [
    "import warnings\n",
    "warnings. filterwarnings('ignore')"
   ]
  },
  {
   "cell_type": "code",
   "execution_count": 10,
   "metadata": {},
   "outputs": [
    {
     "data": {
      "text/plain": [
       "'Introduction\\nGPT-3\\nSurpassing previous models’ capabilities and accuracy, OpenAI created one of the most controversial pre-trained NLP models — GPT-3, after its major setback with GPT-2. Similar to BERT, GPT-3 is also a large-scale transformer-based language model, which is trained on 175 billion parameters and is 10x more than previous models. The company has showcased its extraordinary performances for tasks like translation, Q&A, and unscrambling words. This third-generation language prediction model is autoregressive in nature and works like traditional models where it takes the input vector words and predicts the outputs based on its training. With unsupervised machine learning and few-shot learning, this model works in context.\\n\\nCharacteristics & Key Achievements:\\n* Autoregressive in nature.\\n* GPT-3 showcases how a language model trained on a massive range of data can solve various NLP tasks without fine-tuning.\\n* Can be applied to write news, generate articles as well as codes.\\n* Achieved a score of 81.5 F1 on conversational question answering benchmark in zero-shot learning; 84.0 F1 in one-shot learning; and 85.0 F1 in few-shot learning.\\n* Achieved 64.3% accuracy on TriviaAQ benchmark and 76.2% accuracy on LAMBADA, with zero-shot learning.\\nApplications:\\n* For building applications and websites\\n* For generating ML code\\n* Writing articles and podcasts\\n* For legal documents and generating resumes\\nGenerative Pre-trained Transformer three (GPT-3) is an autoregressive language mannequin that makes use of deep mastering to produce human-like text. It is the third-generation language prediction mannequin in the GPT-n collection created with the aid of OpenAI, a for-profit San Francisco-based synthetic talent lookup laboratory. GPT-3\\'s full model has an ability of one hundred seventy-five billion desktop mastering parameters. GPT-3, which used to be delivered in May 2020, and is in beta checking out as of July 2020, is section of a vogue in herbal language processing (NLP) structures of pre-trained language representations. Prior to the launch of GPT-3, the biggest language mannequin used to be Microsoft\\'s Turing NLG, added in February 2020, with an ability of 17 billion parameters or much less than 10 percentage in contrast to GPT-3.\\n\\nThe excellent of the textual content generated by means of GPT-3 is so excessive that it is tough to distinguish from that written by using a human, which has each advantages and risks. Thirty-one OpenAI researchers and engineers introduced the unique May 28, 2020 paper introducing GPT-3. In their paper, they warned of GPT-3\\'s manageable risks and referred to as for lookup to mitigate risk. David Chalmers, an Australian philosopher, described GPT-3 as \"one of the most fascinating and necessary AI structures ever produced.\"\\n\\n\\nCapabilities\\nA May 28, 2020 arXiv preprint with the aid of a team of 31 engineers and researchers at OpenAI described the improvement of GPT-3, a third generation \"state-of-the-art language model\". The group elevated the potential of GPT-3 by using over two orders of magnitude from that of its predecessor, GPT-2,[12] making GPT-3 the greatest non-sparse[further clarification needed] language mannequin to date.[1]:14[2] GPT-3\\'s greater quantity of parameters supplies it a greater stage of accuracy relative to preceding variations with smaller capacity.GPT-3\\'s ability is ten instances large than that of Microsoft\\'s Turing NLG.\\n\\nSixty percentage of the weighted pre-training dataset for GPT-3 comes from a filtered model of Common Crawl consisting of 410 billion byte-pair-encoded tokens.9 Other sources are 19 billion tokens from WebText2 representing 22% of the weighted total, 12 billion tokens from Books1 representing 8%, fifty five billion tokens from Books2 representing 8%, and three billion tokens from Wikipedia representing 3%.[1]:9 GPT-3 used to be educated on thousands of billions of phrases and is successful of coding in CSS, JSX, Python, amongst others. Since GPT-3\\'s education statistics was once all-encompassing, it does now not require in addition education for awesome language tasks.\\n\\nOn June 11, 2020, OpenAI introduced that customers ought to request get admission to its common GPT-3 API—a \"machine getting to know toolset\"—to assist OpenAI \"explore the strengths and limits\" of this new technology. The invitation described how this API had a general-purpose \"text in, textual content out\" interface that can entire nearly \"any English language task\", as an alternative of the ordinary single use-case. According to one user, who had get admission to a personal early launch of the OpenAI GPT-3 API, GPT-3 was once \"eerily good\" at writing \"amazingly coherent text\" with solely a few easy prompts.\\n\\nBecause GPT-3 can \"generate information articles which human evaluators have subject distinguishing from articles written via humans,\" GPT-3 has the \"potential to increase each the recommended and hazardous purposes of language models.\" In their May 28, 2020 paper, the researchers described in element the workable \"harmful consequences of GPT-3\" which encompass \"misinformation, spam, phishing, abuse of criminal and governmental processes, fraudulent educational essay writing and social engineering pretexting\". The authors draw interest to these risks to name for lookup on chance mitigation.\\n\\nFacebook’s chief AI scientist says GPT-3 is ‘not very good’ as a dialog system\\n\\nIn a Facebook publish posted Tuesday, the social network’s chief AI scientist stated the textual content generator is “not very good” as a question-answering or dialog system, and that different strategies produce higher results.\\n“It’s entertaining, and possibly mildly beneficial as an innovative help,” LeCun wrote. “But attempting to construct smart machines by means of scaling up language fashions is like constructing high-altitude airplanes to go to the moon. You would possibly beat altitude records, however going to the moon will require an absolutely special approach.”\\nTo guide his claims, LeCun pointed to a new find out about of the model’s overall performance in healthcare eventualities by using Nabla, a MedTech association cofounded by way of two of his former colleagues at Facebook. The researchers observe that Open AI’s GPT-3 tips put healthcare “in the excessive stakes class due to the fact human beings depend on correct scientific statistics for life-or-death decisions, and errors right here should end result in serious harm.” In addition, diagnosing clinical or psychiatric prerequisites are unsupported makes use of the model. Nonetheless, Nabla tried it out on a range of healthcare use cases.\\nHow did GPT-3 perform. \\nThe researchers observed that GPT-3 appeared useful in discovering data in lengthy archives and in fundamental admin duties such as appointment booking. But it lacked the memory, logic, and perception of time for many greater particular questions.\\nCredit: NablaGPT-3 did not note the patient’s 6PM time deadline.\\nNabla additionally determined that GPT-3 used to be an unreliable Q&A aid device for doctors, dangerously oversimplified scientific documentation analysis, and struggled to companion motives with consequences.\\nThe mannequin additionally made some fundamental mistakes in analysis and furnished some reckless intellectual fitness advice.\\nCredit: NablaGPT-3’s suicide suggestion suggests the model’s want for constraints.\\nThe researchers do see some plausible for the usage of language fashions in scientific settings. But they conclude that GPT-3 is “nowhere near” equipped to supply giant assist in the sector:\\nBecause of the way it was once trained, it lacks the scientific and scientific knowledge that would make it beneficial for scientific documentation, prognosis support, cure advice or any clinical Q&A. Yes, GPT-3 can be proper in its solutions however it can additionally be very wrong, and this inconsistency is simply no longer possible in healthcare.\\nTheir findings will not shock OpenAI, given the firm’s warnings towards the use of GPT-3 in healthcare. But they do exhibit that many expectations for the mannequin are wildly unrealistic.\\nBERT, aka Bidirectional Encoder Representations from Transformers, is a pre-trained NLP model developed by Google\\n\\nGPT Comparison with nlp\\nThe huge developments in natural language processing have given upward push to revolutionary mannequin structure like GPT-3 and BERT. Such pre-trained fashions have democratised desktop learning, which approves even human beings with much less tech historical past to get their hands-on constructing ML applications, barring education a mannequin from scratch. With skills of fixing versatile troubles like making correct predictions switch getting to know as properly as function extraction, most new NLP fashions are generally skilled on a vast vary of data, in billions.\\n\\nThese pre-trained fashions defeat the motive of coaching a mannequin from scratch except one is fascinated in investing an awful lot time and effort constructing one. Instead, the language fashions like BERT can effortlessly be fine-tuned and can be leveraged for the required tasks. However, the introduction of extra superior variations like GPT-3 has made the work even simpler for users, the place one simply has to explain the task, and with a click, one can create their favoured application. Such developments spotlight the reducing facet knowledge they bring.\\n\\nWith that being said, it can be challenging for many to get a complete grasp of the evaluation between these pre-trained NLP fashions — case in point: GPT-3 and BERT. They no longer solely share many similarities however additionally the more recent fashions are constantly termed to surpass preceding fashions on some or the different parameters. Therefore, this article will recognize the overview of every model, alongside with their comparison.\\n\\nBoth the fashions — GPT-3 and BERT have been enormously new for the industry; however, their trendy overall performance has made them the winners amongst different fashions in the herbal language processing field. However, being skilled on one hundred seventy-five billion parameters, GPT-3 turns into 470 instances better in dimension than BERT-Large.\\nSecondly, whilst BERT requires an elaborated fine-tuning system the place customers have to collect statistics of examples to teach the mannequin for particular downstream tasks, GPT-3’s text-in and text-out API approves the customers to reprogram it the use of directions and get right of entry to it. Case in factor — for sentiment evaluation or query answering tasks, to use BERT, the customers have to educate the mannequin on a separate layer on sentence encodings. However, GPT-3 makes use of a few-shot gaining knowledge of system on the enter token to predict the output result.\\n\\nOn normal NLP duties like laptop translation, answering questions, intricate arithmetic calculations or mastering new words, GPT-3 works flawlessly through conditioning it with a few examples — few-shot learning. Similarly, for textual content technology as well, GPT-3 works on a few prompts to rapidly churn out applicable outputs, with an accuracy of about 52%. OpenAI, simply, with the aid of growing the dimension of the mannequin and its education parameters created a mighty monster of a model.\\n\\nTransformers Simplified: A Hands-On Intro to Text Classification Using Simple Transformers\\nWhereas, to recognize the context of the word, BERT is skilled on masks language mannequin tasks, the place it randomly masks 15% of phrases in every sequence to predict the outcome. Similarly, for sentence prediction, BERT is fed with a pair of sentences as enter and then receives skilled on a delivered auxiliary assignment for prediction. Here its tactics each sentence concerned to predict a binary label of the sentence prediction.\\n\\nOn the structure dimension, whilst BERT is educated on latent relationship challenges between the textual content of unique contexts, GPT-3 education method is tremendously easy in contrast to BERT. Therefore, GPT-3 can be a desired preference at duties the place enough statistics is not available, with a broader vary of application. While the transformer consists of two separate mechanisms — encoder and decoder, the BERT mannequin solely works on encoding mechanisms to generate a language model; however, the GPT-3 combines encoding as nicely as decoding technique to get a transformer decoder for producing text.\\n\\nWhile GPT-3 is commercially handy by an API, however no longer open-sourced, BERT has been an open-source mannequin considering its inception that approves customers to fine-tune it in accordance with their needs. While GPT3 generates output one token at a time, BERT, on the different hand, is now not autoregressive, for that reason makes use of deep bidirectional context for predicting effect on sentiment evaluation and query answering.\\n\\n'"
      ]
     },
     "execution_count": 10,
     "metadata": {},
     "output_type": "execute_result"
    }
   ],
   "source": [
    "#read BLOG ON GPT-3 BY- SAURABH, ARUSHI and SHIKHAR.txt blog file\n",
    "\n",
    "file = 'C:/Users/lenovo/Desktop/BLOG ANALYSIS BY SAURABH, ARUSHI and SHIKHAR/BLOG ON GPT-3 BY- SAURABH, ARUSHI and SHIKHAR.txt'\n",
    "workfile = open(file, \"r\")\n",
    "blog_gpt = workfile.read()\n",
    "blog_gpt"
   ]
  },
  {
   "cell_type": "markdown",
   "metadata": {},
   "source": [
    "### Context analysis in NLP involves breaking down sentences to extract the n-grams, noun phrases, themes, and facets present within. In this article, I’ll explain the value of context in NLP and explore how we break down unstructured text documents to help you understand context."
   ]
  },
  {
   "cell_type": "markdown",
   "metadata": {},
   "source": [
    "## The Value of Context in NLP\n",
    "### The goal of natural language processing (NLP) is to find answers to four questions: \n",
    "#### Who is talking? \n",
    "#### What are they talking about? \n",
    "#### How do they feel? \n",
    "#### Why do they feel that way? \n",
    "This last question is a question of context."
   ]
  },
  {
   "cell_type": "code",
   "execution_count": 11,
   "metadata": {},
   "outputs": [
    {
     "data": {
      "text/plain": [
       "12902"
      ]
     },
     "execution_count": 11,
     "metadata": {},
     "output_type": "execute_result"
    }
   ],
   "source": [
    "#Counting Vocabulary\n",
    "len(blog_gpt)"
   ]
  },
  {
   "cell_type": "markdown",
   "metadata": {},
   "source": [
    "This counts all the characters of the file included spaces and special characters."
   ]
  },
  {
   "cell_type": "markdown",
   "metadata": {},
   "source": [
    "## Tokenising"
   ]
  },
  {
   "cell_type": "code",
   "execution_count": 15,
   "metadata": {},
   "outputs": [
    {
     "data": {
      "text/plain": [
       "2253"
      ]
     },
     "execution_count": 15,
     "metadata": {},
     "output_type": "execute_result"
    }
   ],
   "source": [
    "# Tokenizing word from text document\n",
    "# Tokenization refers to dividing text or a sentence into a sequence of tokens, which roughly correspond to “words”.\n",
    "tokens = nltk.word_tokenize(blog_gpt)\n",
    "\n",
    "# We can check the length of created tokens or splitted word\n",
    "len(tokens)"
   ]
  },
  {
   "cell_type": "markdown",
   "metadata": {},
   "source": [
    "This means - There are total 2253 tokens or words in the blog file. \n",
    "Lets have a look at these words-"
   ]
  },
  {
   "cell_type": "code",
   "execution_count": 16,
   "metadata": {},
   "outputs": [
    {
     "data": {
      "text/plain": [
       "['Introduction',\n",
       " 'GPT-3',\n",
       " 'Surpassing',\n",
       " 'previous',\n",
       " 'models',\n",
       " '’',\n",
       " 'capabilities',\n",
       " 'and',\n",
       " 'accuracy',\n",
       " ',',\n",
       " 'OpenAI',\n",
       " 'created',\n",
       " 'one',\n",
       " 'of',\n",
       " 'the',\n",
       " 'most',\n",
       " 'controversial',\n",
       " 'pre-trained',\n",
       " 'NLP',\n",
       " 'models',\n",
       " '—',\n",
       " 'GPT-3',\n",
       " ',',\n",
       " 'after',\n",
       " 'its',\n",
       " 'major',\n",
       " 'setback',\n",
       " 'with',\n",
       " 'GPT-2',\n",
       " '.',\n",
       " 'Similar',\n",
       " 'to',\n",
       " 'BERT',\n",
       " ',',\n",
       " 'GPT-3',\n",
       " 'is',\n",
       " 'also',\n",
       " 'a',\n",
       " 'large-scale',\n",
       " 'transformer-based',\n",
       " 'language',\n",
       " 'model',\n",
       " ',',\n",
       " 'which',\n",
       " 'is',\n",
       " 'trained',\n",
       " 'on',\n",
       " '175',\n",
       " 'billion',\n",
       " 'parameters',\n",
       " 'and',\n",
       " 'is',\n",
       " '10x',\n",
       " 'more',\n",
       " 'than',\n",
       " 'previous',\n",
       " 'models',\n",
       " '.',\n",
       " 'The',\n",
       " 'company',\n",
       " 'has',\n",
       " 'showcased',\n",
       " 'its',\n",
       " 'extraordinary',\n",
       " 'performances',\n",
       " 'for',\n",
       " 'tasks',\n",
       " 'like',\n",
       " 'translation',\n",
       " ',',\n",
       " 'Q',\n",
       " '&',\n",
       " 'A',\n",
       " ',',\n",
       " 'and',\n",
       " 'unscrambling',\n",
       " 'words',\n",
       " '.',\n",
       " 'This',\n",
       " 'third-generation',\n",
       " 'language',\n",
       " 'prediction',\n",
       " 'model',\n",
       " 'is',\n",
       " 'autoregressive',\n",
       " 'in',\n",
       " 'nature',\n",
       " 'and',\n",
       " 'works',\n",
       " 'like',\n",
       " 'traditional',\n",
       " 'models',\n",
       " 'where',\n",
       " 'it',\n",
       " 'takes',\n",
       " 'the',\n",
       " 'input',\n",
       " 'vector',\n",
       " 'words',\n",
       " 'and',\n",
       " 'predicts',\n",
       " 'the',\n",
       " 'outputs',\n",
       " 'based',\n",
       " 'on',\n",
       " 'its',\n",
       " 'training',\n",
       " '.',\n",
       " 'With',\n",
       " 'unsupervised',\n",
       " 'machine',\n",
       " 'learning',\n",
       " 'and',\n",
       " 'few-shot',\n",
       " 'learning',\n",
       " ',',\n",
       " 'this',\n",
       " 'model',\n",
       " 'works',\n",
       " 'in',\n",
       " 'context',\n",
       " '.',\n",
       " 'Characteristics',\n",
       " '&',\n",
       " 'Key',\n",
       " 'Achievements',\n",
       " ':',\n",
       " '*',\n",
       " 'Autoregressive',\n",
       " 'in',\n",
       " 'nature',\n",
       " '.',\n",
       " '*',\n",
       " 'GPT-3',\n",
       " 'showcases',\n",
       " 'how',\n",
       " 'a',\n",
       " 'language',\n",
       " 'model',\n",
       " 'trained',\n",
       " 'on',\n",
       " 'a',\n",
       " 'massive',\n",
       " 'range',\n",
       " 'of',\n",
       " 'data',\n",
       " 'can',\n",
       " 'solve',\n",
       " 'various',\n",
       " 'NLP',\n",
       " 'tasks',\n",
       " 'without',\n",
       " 'fine-tuning',\n",
       " '.',\n",
       " '*',\n",
       " 'Can',\n",
       " 'be',\n",
       " 'applied',\n",
       " 'to',\n",
       " 'write',\n",
       " 'news',\n",
       " ',',\n",
       " 'generate',\n",
       " 'articles',\n",
       " 'as',\n",
       " 'well',\n",
       " 'as',\n",
       " 'codes',\n",
       " '.',\n",
       " '*',\n",
       " 'Achieved',\n",
       " 'a',\n",
       " 'score',\n",
       " 'of',\n",
       " '81.5',\n",
       " 'F1',\n",
       " 'on',\n",
       " 'conversational',\n",
       " 'question',\n",
       " 'answering',\n",
       " 'benchmark',\n",
       " 'in',\n",
       " 'zero-shot',\n",
       " 'learning',\n",
       " ';',\n",
       " '84.0',\n",
       " 'F1',\n",
       " 'in',\n",
       " 'one-shot',\n",
       " 'learning',\n",
       " ';',\n",
       " 'and',\n",
       " '85.0',\n",
       " 'F1',\n",
       " 'in',\n",
       " 'few-shot',\n",
       " 'learning',\n",
       " '.',\n",
       " '*',\n",
       " 'Achieved',\n",
       " '64.3',\n",
       " '%',\n",
       " 'accuracy',\n",
       " 'on',\n",
       " 'TriviaAQ',\n",
       " 'benchmark',\n",
       " 'and',\n",
       " '76.2',\n",
       " '%',\n",
       " 'accuracy',\n",
       " 'on',\n",
       " 'LAMBADA',\n",
       " ',',\n",
       " 'with',\n",
       " 'zero-shot',\n",
       " 'learning',\n",
       " '.',\n",
       " 'Applications',\n",
       " ':',\n",
       " '*',\n",
       " 'For',\n",
       " 'building',\n",
       " 'applications',\n",
       " 'and',\n",
       " 'websites',\n",
       " '*',\n",
       " 'For',\n",
       " 'generating',\n",
       " 'ML',\n",
       " 'code',\n",
       " '*',\n",
       " 'Writing',\n",
       " 'articles',\n",
       " 'and',\n",
       " 'podcasts',\n",
       " '*',\n",
       " 'For',\n",
       " 'legal',\n",
       " 'documents',\n",
       " 'and',\n",
       " 'generating',\n",
       " 'resumes',\n",
       " 'Generative',\n",
       " 'Pre-trained',\n",
       " 'Transformer',\n",
       " 'three',\n",
       " '(',\n",
       " 'GPT-3',\n",
       " ')',\n",
       " 'is',\n",
       " 'an',\n",
       " 'autoregressive',\n",
       " 'language',\n",
       " 'mannequin',\n",
       " 'that',\n",
       " 'makes',\n",
       " 'use',\n",
       " 'of',\n",
       " 'deep',\n",
       " 'mastering',\n",
       " 'to',\n",
       " 'produce',\n",
       " 'human-like',\n",
       " 'text',\n",
       " '.',\n",
       " 'It',\n",
       " 'is',\n",
       " 'the',\n",
       " 'third-generation',\n",
       " 'language',\n",
       " 'prediction',\n",
       " 'mannequin',\n",
       " 'in',\n",
       " 'the',\n",
       " 'GPT-n',\n",
       " 'collection',\n",
       " 'created',\n",
       " 'with',\n",
       " 'the',\n",
       " 'aid',\n",
       " 'of',\n",
       " 'OpenAI',\n",
       " ',',\n",
       " 'a',\n",
       " 'for-profit',\n",
       " 'San',\n",
       " 'Francisco-based',\n",
       " 'synthetic',\n",
       " 'talent',\n",
       " 'lookup',\n",
       " 'laboratory',\n",
       " '.',\n",
       " 'GPT-3',\n",
       " \"'s\",\n",
       " 'full',\n",
       " 'model',\n",
       " 'has',\n",
       " 'an',\n",
       " 'ability',\n",
       " 'of',\n",
       " 'one',\n",
       " 'hundred',\n",
       " 'seventy-five',\n",
       " 'billion',\n",
       " 'desktop',\n",
       " 'mastering',\n",
       " 'parameters',\n",
       " '.',\n",
       " 'GPT-3',\n",
       " ',',\n",
       " 'which',\n",
       " 'used',\n",
       " 'to',\n",
       " 'be',\n",
       " 'delivered',\n",
       " 'in',\n",
       " 'May',\n",
       " '2020',\n",
       " ',',\n",
       " 'and',\n",
       " 'is',\n",
       " 'in',\n",
       " 'beta',\n",
       " 'checking',\n",
       " 'out',\n",
       " 'as',\n",
       " 'of',\n",
       " 'July',\n",
       " '2020',\n",
       " ',',\n",
       " 'is',\n",
       " 'section',\n",
       " 'of',\n",
       " 'a',\n",
       " 'vogue',\n",
       " 'in',\n",
       " 'herbal',\n",
       " 'language',\n",
       " 'processing',\n",
       " '(',\n",
       " 'NLP',\n",
       " ')',\n",
       " 'structures',\n",
       " 'of',\n",
       " 'pre-trained',\n",
       " 'language',\n",
       " 'representations',\n",
       " '.',\n",
       " 'Prior',\n",
       " 'to',\n",
       " 'the',\n",
       " 'launch',\n",
       " 'of',\n",
       " 'GPT-3',\n",
       " ',',\n",
       " 'the',\n",
       " 'biggest',\n",
       " 'language',\n",
       " 'mannequin',\n",
       " 'used',\n",
       " 'to',\n",
       " 'be',\n",
       " 'Microsoft',\n",
       " \"'s\",\n",
       " 'Turing',\n",
       " 'NLG',\n",
       " ',',\n",
       " 'added',\n",
       " 'in',\n",
       " 'February',\n",
       " '2020',\n",
       " ',',\n",
       " 'with',\n",
       " 'an',\n",
       " 'ability',\n",
       " 'of',\n",
       " '17',\n",
       " 'billion',\n",
       " 'parameters',\n",
       " 'or',\n",
       " 'much',\n",
       " 'less',\n",
       " 'than',\n",
       " '10',\n",
       " 'percentage',\n",
       " 'in',\n",
       " 'contrast',\n",
       " 'to',\n",
       " 'GPT-3',\n",
       " '.',\n",
       " 'The',\n",
       " 'excellent',\n",
       " 'of',\n",
       " 'the',\n",
       " 'textual',\n",
       " 'content',\n",
       " 'generated',\n",
       " 'by',\n",
       " 'means',\n",
       " 'of',\n",
       " 'GPT-3',\n",
       " 'is',\n",
       " 'so',\n",
       " 'excessive',\n",
       " 'that',\n",
       " 'it',\n",
       " 'is',\n",
       " 'tough',\n",
       " 'to',\n",
       " 'distinguish',\n",
       " 'from',\n",
       " 'that',\n",
       " 'written',\n",
       " 'by',\n",
       " 'using',\n",
       " 'a',\n",
       " 'human',\n",
       " ',',\n",
       " 'which',\n",
       " 'has',\n",
       " 'each',\n",
       " 'advantages',\n",
       " 'and',\n",
       " 'risks',\n",
       " '.',\n",
       " 'Thirty-one',\n",
       " 'OpenAI',\n",
       " 'researchers',\n",
       " 'and',\n",
       " 'engineers',\n",
       " 'introduced',\n",
       " 'the',\n",
       " 'unique',\n",
       " 'May',\n",
       " '28',\n",
       " ',',\n",
       " '2020',\n",
       " 'paper',\n",
       " 'introducing',\n",
       " 'GPT-3',\n",
       " '.',\n",
       " 'In',\n",
       " 'their',\n",
       " 'paper',\n",
       " ',',\n",
       " 'they',\n",
       " 'warned',\n",
       " 'of',\n",
       " 'GPT-3',\n",
       " \"'s\",\n",
       " 'manageable',\n",
       " 'risks',\n",
       " 'and',\n",
       " 'referred',\n",
       " 'to',\n",
       " 'as',\n",
       " 'for',\n",
       " 'lookup',\n",
       " 'to',\n",
       " 'mitigate',\n",
       " 'risk',\n",
       " '.',\n",
       " 'David',\n",
       " 'Chalmers',\n",
       " ',',\n",
       " 'an',\n",
       " 'Australian',\n",
       " 'philosopher',\n",
       " ',',\n",
       " 'described',\n",
       " 'GPT-3',\n",
       " 'as',\n",
       " '``',\n",
       " 'one',\n",
       " 'of',\n",
       " 'the',\n",
       " 'most',\n",
       " 'fascinating',\n",
       " 'and',\n",
       " 'necessary',\n",
       " 'AI',\n",
       " 'structures',\n",
       " 'ever',\n",
       " 'produced',\n",
       " '.',\n",
       " \"''\",\n",
       " 'Capabilities',\n",
       " 'A',\n",
       " 'May',\n",
       " '28',\n",
       " ',',\n",
       " '2020',\n",
       " 'arXiv',\n",
       " 'preprint',\n",
       " 'with',\n",
       " 'the',\n",
       " 'aid',\n",
       " 'of',\n",
       " 'a',\n",
       " 'team',\n",
       " 'of',\n",
       " '31',\n",
       " 'engineers',\n",
       " 'and',\n",
       " 'researchers',\n",
       " 'at',\n",
       " 'OpenAI',\n",
       " 'described',\n",
       " 'the',\n",
       " 'improvement',\n",
       " 'of',\n",
       " 'GPT-3',\n",
       " ',',\n",
       " 'a',\n",
       " 'third',\n",
       " 'generation',\n",
       " '``',\n",
       " 'state-of-the-art',\n",
       " 'language',\n",
       " 'model',\n",
       " \"''\",\n",
       " '.',\n",
       " 'The',\n",
       " 'group',\n",
       " 'elevated',\n",
       " 'the',\n",
       " 'potential',\n",
       " 'of',\n",
       " 'GPT-3',\n",
       " 'by',\n",
       " 'using',\n",
       " 'over',\n",
       " 'two',\n",
       " 'orders',\n",
       " 'of',\n",
       " 'magnitude',\n",
       " 'from',\n",
       " 'that',\n",
       " 'of',\n",
       " 'its',\n",
       " 'predecessor',\n",
       " ',',\n",
       " 'GPT-2',\n",
       " ',',\n",
       " '[',\n",
       " '12',\n",
       " ']',\n",
       " 'making',\n",
       " 'GPT-3',\n",
       " 'the',\n",
       " 'greatest',\n",
       " 'non-sparse',\n",
       " '[',\n",
       " 'further',\n",
       " 'clarification',\n",
       " 'needed',\n",
       " ']',\n",
       " 'language',\n",
       " 'mannequin',\n",
       " 'to',\n",
       " 'date',\n",
       " '.',\n",
       " '[',\n",
       " '1',\n",
       " ']',\n",
       " ':14',\n",
       " '[',\n",
       " '2',\n",
       " ']',\n",
       " 'GPT-3',\n",
       " \"'s\",\n",
       " 'greater',\n",
       " 'quantity',\n",
       " 'of',\n",
       " 'parameters',\n",
       " 'supplies',\n",
       " 'it',\n",
       " 'a',\n",
       " 'greater',\n",
       " 'stage',\n",
       " 'of',\n",
       " 'accuracy',\n",
       " 'relative',\n",
       " 'to',\n",
       " 'preceding',\n",
       " 'variations',\n",
       " 'with',\n",
       " 'smaller',\n",
       " 'capacity.GPT-3',\n",
       " \"'s\",\n",
       " 'ability',\n",
       " 'is',\n",
       " 'ten',\n",
       " 'instances',\n",
       " 'large',\n",
       " 'than',\n",
       " 'that',\n",
       " 'of',\n",
       " 'Microsoft',\n",
       " \"'s\",\n",
       " 'Turing',\n",
       " 'NLG',\n",
       " '.',\n",
       " 'Sixty',\n",
       " 'percentage',\n",
       " 'of',\n",
       " 'the',\n",
       " 'weighted',\n",
       " 'pre-training',\n",
       " 'dataset',\n",
       " 'for',\n",
       " 'GPT-3',\n",
       " 'comes',\n",
       " 'from',\n",
       " 'a',\n",
       " 'filtered',\n",
       " 'model',\n",
       " 'of',\n",
       " 'Common',\n",
       " 'Crawl',\n",
       " 'consisting',\n",
       " 'of',\n",
       " '410',\n",
       " 'billion',\n",
       " 'byte-pair-encoded',\n",
       " 'tokens.9',\n",
       " 'Other',\n",
       " 'sources',\n",
       " 'are',\n",
       " '19',\n",
       " 'billion',\n",
       " 'tokens',\n",
       " 'from',\n",
       " 'WebText2',\n",
       " 'representing',\n",
       " '22',\n",
       " '%',\n",
       " 'of',\n",
       " 'the',\n",
       " 'weighted',\n",
       " 'total',\n",
       " ',',\n",
       " '12',\n",
       " 'billion',\n",
       " 'tokens',\n",
       " 'from',\n",
       " 'Books1',\n",
       " 'representing',\n",
       " '8',\n",
       " '%',\n",
       " ',',\n",
       " 'fifty',\n",
       " 'five',\n",
       " 'billion',\n",
       " 'tokens',\n",
       " 'from',\n",
       " 'Books2',\n",
       " 'representing',\n",
       " '8',\n",
       " '%',\n",
       " ',',\n",
       " 'and',\n",
       " 'three',\n",
       " 'billion',\n",
       " 'tokens',\n",
       " 'from',\n",
       " 'Wikipedia',\n",
       " 'representing',\n",
       " '3',\n",
       " '%',\n",
       " '.',\n",
       " '[',\n",
       " '1',\n",
       " ']',\n",
       " ':9',\n",
       " 'GPT-3',\n",
       " 'used',\n",
       " 'to',\n",
       " 'be',\n",
       " 'educated',\n",
       " 'on',\n",
       " 'thousands',\n",
       " 'of',\n",
       " 'billions',\n",
       " 'of',\n",
       " 'phrases',\n",
       " 'and',\n",
       " 'is',\n",
       " 'successful',\n",
       " 'of',\n",
       " 'coding',\n",
       " 'in',\n",
       " 'CSS',\n",
       " ',',\n",
       " 'JSX',\n",
       " ',',\n",
       " 'Python',\n",
       " ',',\n",
       " 'amongst',\n",
       " 'others',\n",
       " '.',\n",
       " 'Since',\n",
       " 'GPT-3',\n",
       " \"'s\",\n",
       " 'education',\n",
       " 'statistics',\n",
       " 'was',\n",
       " 'once',\n",
       " 'all-encompassing',\n",
       " ',',\n",
       " 'it',\n",
       " 'does',\n",
       " 'now',\n",
       " 'not',\n",
       " 'require',\n",
       " 'in',\n",
       " 'addition',\n",
       " 'education',\n",
       " 'for',\n",
       " 'awesome',\n",
       " 'language',\n",
       " 'tasks',\n",
       " '.',\n",
       " 'On',\n",
       " 'June',\n",
       " '11',\n",
       " ',',\n",
       " '2020',\n",
       " ',',\n",
       " 'OpenAI',\n",
       " 'introduced',\n",
       " 'that',\n",
       " 'customers',\n",
       " 'ought',\n",
       " 'to',\n",
       " 'request',\n",
       " 'get',\n",
       " 'admission',\n",
       " 'to',\n",
       " 'its',\n",
       " 'common',\n",
       " 'GPT-3',\n",
       " 'API—a',\n",
       " '``',\n",
       " 'machine',\n",
       " 'getting',\n",
       " 'to',\n",
       " 'know',\n",
       " 'toolset',\n",
       " \"''\",\n",
       " '—to',\n",
       " 'assist',\n",
       " 'OpenAI',\n",
       " '``',\n",
       " 'explore',\n",
       " 'the',\n",
       " 'strengths',\n",
       " 'and',\n",
       " 'limits',\n",
       " \"''\",\n",
       " 'of',\n",
       " 'this',\n",
       " 'new',\n",
       " 'technology',\n",
       " '.',\n",
       " 'The',\n",
       " 'invitation',\n",
       " 'described',\n",
       " 'how',\n",
       " 'this',\n",
       " 'API',\n",
       " 'had',\n",
       " 'a',\n",
       " 'general-purpose',\n",
       " '``',\n",
       " 'text',\n",
       " 'in',\n",
       " ',',\n",
       " 'textual',\n",
       " 'content',\n",
       " 'out',\n",
       " \"''\",\n",
       " 'interface',\n",
       " 'that',\n",
       " 'can',\n",
       " 'entire',\n",
       " 'nearly',\n",
       " '``',\n",
       " 'any',\n",
       " 'English',\n",
       " 'language',\n",
       " 'task',\n",
       " \"''\",\n",
       " ',',\n",
       " 'as',\n",
       " 'an',\n",
       " 'alternative',\n",
       " 'of',\n",
       " 'the',\n",
       " 'ordinary',\n",
       " 'single',\n",
       " 'use-case',\n",
       " '.',\n",
       " 'According',\n",
       " 'to',\n",
       " 'one',\n",
       " 'user',\n",
       " ',',\n",
       " 'who',\n",
       " 'had',\n",
       " 'get',\n",
       " 'admission',\n",
       " 'to',\n",
       " 'a',\n",
       " 'personal',\n",
       " 'early',\n",
       " 'launch',\n",
       " 'of',\n",
       " 'the',\n",
       " 'OpenAI',\n",
       " 'GPT-3',\n",
       " 'API',\n",
       " ',',\n",
       " 'GPT-3',\n",
       " 'was',\n",
       " 'once',\n",
       " '``',\n",
       " 'eerily',\n",
       " 'good',\n",
       " \"''\",\n",
       " 'at',\n",
       " 'writing',\n",
       " '``',\n",
       " 'amazingly',\n",
       " 'coherent',\n",
       " 'text',\n",
       " \"''\",\n",
       " 'with',\n",
       " 'solely',\n",
       " 'a',\n",
       " 'few',\n",
       " 'easy',\n",
       " 'prompts',\n",
       " '.',\n",
       " 'Because',\n",
       " 'GPT-3',\n",
       " 'can',\n",
       " '``',\n",
       " 'generate',\n",
       " 'information',\n",
       " 'articles',\n",
       " 'which',\n",
       " 'human',\n",
       " 'evaluators',\n",
       " 'have',\n",
       " 'subject',\n",
       " 'distinguishing',\n",
       " 'from',\n",
       " 'articles',\n",
       " 'written',\n",
       " 'via',\n",
       " 'humans',\n",
       " ',',\n",
       " \"''\",\n",
       " 'GPT-3',\n",
       " 'has',\n",
       " 'the',\n",
       " '``',\n",
       " 'potential',\n",
       " 'to',\n",
       " 'increase',\n",
       " 'each',\n",
       " 'the',\n",
       " 'recommended',\n",
       " 'and',\n",
       " 'hazardous',\n",
       " 'purposes',\n",
       " 'of',\n",
       " 'language',\n",
       " 'models',\n",
       " '.',\n",
       " \"''\",\n",
       " 'In',\n",
       " 'their',\n",
       " 'May',\n",
       " '28',\n",
       " ',',\n",
       " '2020',\n",
       " 'paper',\n",
       " ',',\n",
       " 'the',\n",
       " 'researchers',\n",
       " 'described',\n",
       " 'in',\n",
       " 'element',\n",
       " 'the',\n",
       " 'workable',\n",
       " '``',\n",
       " 'harmful',\n",
       " 'consequences',\n",
       " 'of',\n",
       " 'GPT-3',\n",
       " \"''\",\n",
       " 'which',\n",
       " 'encompass',\n",
       " '``',\n",
       " 'misinformation',\n",
       " ',',\n",
       " 'spam',\n",
       " ',',\n",
       " 'phishing',\n",
       " ',',\n",
       " 'abuse',\n",
       " 'of',\n",
       " 'criminal',\n",
       " 'and',\n",
       " 'governmental',\n",
       " 'processes',\n",
       " ',',\n",
       " 'fraudulent',\n",
       " 'educational',\n",
       " 'essay',\n",
       " 'writing',\n",
       " 'and',\n",
       " 'social',\n",
       " 'engineering',\n",
       " 'pretexting',\n",
       " \"''\",\n",
       " '.',\n",
       " 'The',\n",
       " 'authors',\n",
       " 'draw',\n",
       " 'interest',\n",
       " 'to',\n",
       " 'these',\n",
       " 'risks',\n",
       " 'to',\n",
       " 'name',\n",
       " 'for',\n",
       " 'lookup',\n",
       " 'on',\n",
       " 'chance',\n",
       " 'mitigation',\n",
       " '.',\n",
       " 'Facebook',\n",
       " '’',\n",
       " 's',\n",
       " 'chief',\n",
       " 'AI',\n",
       " 'scientist',\n",
       " 'says',\n",
       " 'GPT-3',\n",
       " 'is',\n",
       " '‘',\n",
       " 'not',\n",
       " 'very',\n",
       " 'good',\n",
       " '’',\n",
       " 'as',\n",
       " 'a',\n",
       " 'dialog',\n",
       " 'system',\n",
       " 'In',\n",
       " 'a',\n",
       " 'Facebook',\n",
       " 'publish',\n",
       " 'posted',\n",
       " 'Tuesday',\n",
       " ',',\n",
       " 'the',\n",
       " 'social',\n",
       " 'network',\n",
       " '’',\n",
       " 's',\n",
       " 'chief',\n",
       " 'AI',\n",
       " 'scientist',\n",
       " 'stated',\n",
       " 'the',\n",
       " 'textual',\n",
       " 'content',\n",
       " 'generator',\n",
       " 'is',\n",
       " '“',\n",
       " 'not',\n",
       " 'very',\n",
       " 'good',\n",
       " '”',\n",
       " 'as',\n",
       " 'a',\n",
       " 'question-answering',\n",
       " 'or',\n",
       " 'dialog',\n",
       " 'system',\n",
       " ',',\n",
       " 'and',\n",
       " 'that',\n",
       " 'different',\n",
       " 'strategies',\n",
       " 'produce',\n",
       " ...]"
      ]
     },
     "execution_count": 16,
     "metadata": {},
     "output_type": "execute_result"
    }
   ],
   "source": [
    "tokens"
   ]
  },
  {
   "cell_type": "markdown",
   "metadata": {},
   "source": [
    "## Unique Tokens"
   ]
  },
  {
   "cell_type": "code",
   "execution_count": 27,
   "metadata": {},
   "outputs": [
    {
     "data": {
      "text/plain": [
       "840"
      ]
     },
     "execution_count": 27,
     "metadata": {},
     "output_type": "execute_result"
    }
   ],
   "source": [
    "#Lets have a look at unique set of words in the tokens\n",
    "len(set(tokens))"
   ]
  },
  {
   "cell_type": "markdown",
   "metadata": {},
   "source": [
    "That means the Blog has 840 unique words. We will further check the lexical richness of the blog."
   ]
  },
  {
   "cell_type": "code",
   "execution_count": 17,
   "metadata": {},
   "outputs": [
    {
     "data": {
      "text/plain": [
       "<Text: Introduction GPT-3 Surpassing previous models ’ capabilities and...>"
      ]
     },
     "execution_count": 17,
     "metadata": {},
     "output_type": "execute_result"
    }
   ],
   "source": [
    "# By creating an NLTK text from this tokens, we can carry out all of the other linguistic processing\n",
    "nltk_blog = nltk.Text(tokens)\n",
    "nltk_blog"
   ]
  },
  {
   "cell_type": "code",
   "execution_count": 19,
   "metadata": {},
   "outputs": [
    {
     "name": "stdout",
     "output_type": "stream",
     "text": [
      "Displaying 25 of 47 matches:\n",
      "Introduction GPT-3 Surpassing previous models ’ capabil\n",
      "ntroversial pre-trained NLP models — GPT-3 , after its major setback with GPT-2\n",
      "tback with GPT-2 . Similar to BERT , GPT-3 is also a large-scale transformer-ba\n",
      "nts : * Autoregressive in nature . * GPT-3 showcases how a language model train\n",
      "tive Pre-trained Transformer three ( GPT-3 ) is an autoregressive language mann\n",
      "synthetic talent lookup laboratory . GPT-3 's full model has an ability of one \n",
      "llion desktop mastering parameters . GPT-3 , which used to be delivered in May \n",
      "esentations . Prior to the launch of GPT-3 , the biggest language mannequin use\n",
      "ss than 10 percentage in contrast to GPT-3 . The excellent of the textual conte\n",
      "extual content generated by means of GPT-3 is so excessive that it is tough to \n",
      "ique May 28 , 2020 paper introducing GPT-3 . In their paper , they warned of GP\n",
      "-3 . In their paper , they warned of GPT-3 's manageable risks and referred to \n",
      "n Australian philosopher , described GPT-3 as `` one of the most fascinating an\n",
      " OpenAI described the improvement of GPT-3 , a third generation `` state-of-the\n",
      " The group elevated the potential of GPT-3 by using over two orders of magnitud\n",
      " predecessor , GPT-2 , [ 12 ] making GPT-3 the greatest non-sparse [ further cl\n",
      " mannequin to date . [ 1 ] :14 [ 2 ] GPT-3 's greater quantity of parameters su\n",
      "he weighted pre-training dataset for GPT-3 comes from a filtered model of Commo\n",
      "ikipedia representing 3 % . [ 1 ] :9 GPT-3 used to be educated on thousands of \n",
      "SX , Python , amongst others . Since GPT-3 's education statistics was once all\n",
      " request get admission to its common GPT-3 API—a `` machine getting to know too\n",
      " personal early launch of the OpenAI GPT-3 API , GPT-3 was once `` eerily good \n",
      "rly launch of the OpenAI GPT-3 API , GPT-3 was once `` eerily good '' at writin\n",
      " solely a few easy prompts . Because GPT-3 can `` generate information articles\n",
      "rom articles written via humans , '' GPT-3 has the `` potential to increase eac\n"
     ]
    }
   ],
   "source": [
    "# Concordance- it will show the context where the word is matched.\n",
    "nltk_blog.concordance(\"GPT-3\")"
   ]
  },
  {
   "cell_type": "code",
   "execution_count": 23,
   "metadata": {},
   "outputs": [
    {
     "name": "stdout",
     "output_type": "stream",
     "text": [
      "pre-trained_models various_tasks (_) pre-trained_model with_the\n",
      "new_fashions pre-trained_fashions normal_duties\n"
     ]
    }
   ],
   "source": [
    "#The common_contexts() method allows you to examine the contexts that are shared by two or more words.\n",
    "nltk_blog.common_contexts([\"NLP\"])"
   ]
  },
  {
   "cell_type": "markdown",
   "metadata": {},
   "source": [
    "## Lexical Richness"
   ]
  },
  {
   "cell_type": "code",
   "execution_count": 24,
   "metadata": {},
   "outputs": [
    {
     "data": {
      "text/plain": [
       "37.28362183754994"
      ]
     },
     "execution_count": 24,
     "metadata": {},
     "output_type": "execute_result"
    }
   ],
   "source": [
    "\n",
    "#ratio of different unique word stems (types) to the total number of words (tokens).\n",
    "len(set(nltk_blog))/len(nltk_blog)*100\n",
    "\n",
    "#The higher the number, the more lexically rich it is."
   ]
  },
  {
   "cell_type": "markdown",
   "metadata": {},
   "source": [
    "This means as compared to the length of words or tokens with the unique tokens, the blog is not kexically rich. Unique words as compared to lenght of tokens differs in a huge number"
   ]
  },
  {
   "cell_type": "markdown",
   "metadata": {},
   "source": [
    "## Dispersion Plot"
   ]
  },
  {
   "cell_type": "code",
   "execution_count": 40,
   "metadata": {},
   "outputs": [
    {
     "data": {
      "image/png": "[encoded data removed]",
      "text/plain": [
       "<Figure size 432x288 with 1 Axes>"
      ]
     },
     "metadata": {
      "needs_background": "light"
     },
     "output_type": "display_data"
    }
   ],
   "source": [
    "#we can also determine the location of a word in the text: how many words from the beginning it appears. \n",
    "#This positional information can be displayed using a dispersion plot.\n",
    "\n",
    "nltk_blog.dispersion_plot([\"GPT-3\",\"NLP\",\"Facebook\",\"Comparison\",\"model\",\"language\"])"
   ]
  },
  {
   "cell_type": "markdown",
   "metadata": {},
   "source": [
    "This shows the positional INformation of words like we can see 'GPT-3' is the most common word, that is lying throughout the Blog, also the word 'language', we can see it more often. Occurence of word' Comparison' is only once in the Blog which is near 1500th word. Such kind of inference we can make using a word search dispersion plot."
   ]
  },
  {
   "cell_type": "markdown",
   "metadata": {},
   "source": [
    "## Frequency Distribution"
   ]
  },
  {
   "cell_type": "code",
   "execution_count": 47,
   "metadata": {},
   "outputs": [
    {
     "name": "stdout",
     "output_type": "stream",
     "text": [
      "<FreqDist with 840 samples and 2253 outcomes>\n"
     ]
    },
    {
     "data": {
      "text/plain": [
       "FreqDist({',': 112, 'the': 81, '.': 75, 'of': 70, 'to': 52, 'GPT-3': 47, 'and': 44, 'a': 40, 'in': 38, 'is': 26, ...})"
      ]
     },
     "execution_count": 47,
     "metadata": {},
     "output_type": "execute_result"
    }
   ],
   "source": [
    "# Frequency dist of NLTK_BLOG using built in fucn\n",
    "fdist1= FreqDist(nltk_blog)\n",
    "print(fdist1)\n",
    "fdist1"
   ]
  },
  {
   "cell_type": "markdown",
   "metadata": {},
   "source": [
    "This shows the number of occurence of words in the blog. For ex. ',' has occurred 112 times in the blog, 'the' occurred 81 times, and so on."
   ]
  },
  {
   "cell_type": "markdown",
   "metadata": {},
   "source": [
    "## Common Words in the Blog"
   ]
  },
  {
   "cell_type": "code",
   "execution_count": 51,
   "metadata": {},
   "outputs": [
    {
     "data": {
      "text/plain": [
       "[(',', 112),\n",
       " ('the', 81),\n",
       " ('.', 75),\n",
       " ('of', 70),\n",
       " ('to', 52),\n",
       " ('GPT-3', 47),\n",
       " ('and', 44),\n",
       " ('a', 40),\n",
       " ('in', 38),\n",
       " ('is', 26),\n",
       " ('for', 24),\n",
       " ('on', 23),\n",
       " ('language', 20),\n",
       " ('with', 18),\n",
       " ('that', 17),\n",
       " ('it', 16),\n",
       " ('as', 16),\n",
       " ('BERT', 15),\n",
       " ('mannequin', 15),\n",
       " ('model', 14),\n",
       " ('an', 13),\n",
       " ('’', 12),\n",
       " ('``', 12),\n",
       " (\"''\", 12),\n",
       " ('be', 11),\n",
       " ('from', 11),\n",
       " ('fashions', 11),\n",
       " ('one', 10),\n",
       " ('The', 10),\n",
       " ('can', 10),\n",
       " ('s', 10),\n",
       " ('OpenAI', 9),\n",
       " ('its', 9),\n",
       " ('billion', 9),\n",
       " ('*', 9),\n",
       " ('has', 8),\n",
       " ('like', 8),\n",
       " ('learning', 8),\n",
       " ('%', 8),\n",
       " ('use', 8),\n",
       " ('by', 8),\n",
       " ('NLP', 7),\n",
       " ('parameters', 7),\n",
       " ('tasks', 7),\n",
       " (':', 7),\n",
       " (\"'s\", 7),\n",
       " ('2020', 7),\n",
       " ('or', 7),\n",
       " ('their', 7),\n",
       " ('not', 7)]"
      ]
     },
     "execution_count": 51,
     "metadata": {},
     "output_type": "execute_result"
    }
   ],
   "source": [
    "# 50 common words \n",
    "fdist1.most_common(50)"
   ]
  },
  {
   "cell_type": "markdown",
   "metadata": {},
   "source": [
    "## Distribution Plot for Common Words"
   ]
  },
  {
   "cell_type": "code",
   "execution_count": 52,
   "metadata": {},
   "outputs": [
    {
     "data": {
      "image/png": "[encoded data removed]",
      "text/plain": [
       "<Figure size 432x288 with 1 Axes>"
      ]
     },
     "metadata": {
      "needs_background": "light"
     },
     "output_type": "display_data"
    },
    {
     "data": {
      "text/plain": [
       "<matplotlib.axes._subplots.AxesSubplot at 0x225d37f57c8>"
      ]
     },
     "execution_count": 52,
     "metadata": {},
     "output_type": "execute_result"
    }
   ],
   "source": [
    "# We can plot the distribution of common words also\n",
    "#plotting\n",
    "fdist1.plot(50, cumulative=True)"
   ]
  },
  {
   "cell_type": "markdown",
   "metadata": {},
   "source": [
    "## Words that occur only once"
   ]
  },
  {
   "cell_type": "code",
   "execution_count": 61,
   "metadata": {},
   "outputs": [
    {
     "name": "stdout",
     "output_type": "stream",
     "text": [
      "Total Word count that Occurred Once 555\n",
      "\n",
      " ['Introduction', 'Surpassing', 'capabilities', 'controversial', 'after', 'major', 'setback', 'Similar', 'also', 'large-scale', 'transformer-based', '175', '10x', 'company', 'showcased', 'extraordinary', 'performances', 'unscrambling', 'This', 'traditional', 'where', 'takes', 'input', 'vector', 'predicts', 'based', 'training', 'unsupervised', 'Characteristics', 'Key', 'Achievements', 'Autoregressive', 'showcases', 'massive', 'solve', 'various', 'without', 'Can', 'applied', 'write', 'news', 'codes', 'score', '81.5', 'conversational', 'question', '84.0', 'one-shot', '85.0', '64.3', 'TriviaAQ', '76.2', 'LAMBADA', 'Applications', 'building', 'websites', 'code', 'Writing', 'podcasts', 'legal', 'documents', 'resumes', 'Generative', 'Pre-trained', 'Transformer', 'human-like', 'GPT-n', 'collection', 'for-profit', 'San', 'Francisco-based', 'synthetic', 'talent', 'laboratory', 'full', 'beta', 'checking', 'July', 'section', 'vogue', 'representations', 'Prior', 'biggest', 'added', 'February', '17', '10', 'excellent', 'generated', 'so', 'tough', 'distinguish', 'advantages', 'Thirty-one', 'introducing', 'warned', 'manageable', 'referred', 'mitigate', 'risk', 'David', 'Chalmers', 'Australian', 'philosopher', 'fascinating', 'necessary', 'ever', 'produced', 'Capabilities', 'arXiv', 'preprint', 'team', '31', 'improvement', 'third', 'generation', 'state-of-the-art', 'group', 'elevated', 'over', 'orders', 'magnitude', 'predecessor', 'greatest', 'non-sparse', 'further', 'clarification', 'needed', 'date', ':14', '2', 'quantity', 'supplies', 'stage', 'relative', 'smaller', 'capacity.GPT-3', 'ten', 'large', 'Sixty', 'pre-training', 'dataset', 'comes', 'filtered', 'Common', 'Crawl', 'consisting', '410', 'byte-pair-encoded', 'tokens.9', 'Other', 'sources', '19', 'WebText2', '22', 'total', 'Books1', 'fifty', 'five', 'Books2', 'Wikipedia', '3', ':9', 'thousands', 'successful', 'coding', 'CSS', 'JSX', 'Python', 'others', 'Since', 'all-encompassing', 'does', 'awesome', 'June', '11', 'ought', 'request', 'common', 'API—a', 'toolset', '—to', 'explore', 'strengths', 'limits', 'invitation', 'general-purpose', 'interface', 'entire', 'nearly', 'English', 'alternative', 'ordinary', 'single', 'use-case', 'According', 'user', 'who', 'personal', 'early', 'eerily', 'amazingly', 'coherent', 'information', 'evaluators', 'subject', 'distinguishing', 'via', 'humans', 'increase', 'recommended', 'hazardous', 'purposes', 'element', 'workable', 'harmful', 'encompass', 'misinformation', 'spam', 'phishing', 'abuse', 'criminal', 'governmental', 'processes', 'fraudulent', 'educational', 'essay', 'engineering', 'pretexting', 'authors', 'draw', 'interest', 'name', 'chance', 'mitigation', 'says', '‘', 'publish', 'posted', 'Tuesday', 'network', 'stated', 'generator', 'question-answering', 'strategies', 'higher', 'results', 'entertaining', 'mildly', 'innovative', 'help', 'wrote', 'attempting', 'construct', 'smart', 'machines', 'scaling', 'up', 'high-altitude', 'airplanes', 'go', 'You', 'beat', 'altitude', 'records', 'going', 'absolutely', 'special', 'approach.', 'To', 'guide', 'claims', 'pointed', 'find', 'eventualities', 'MedTech', 'association', 'cofounded', 'former', 'colleagues', 'observe', 'Open', 'tips', 'put', 'stakes', 'class', 'due', 'fact', 'depend', 'life-or-death', 'decisions', 'errors', 'here', 'should', 'end', 'serious', 'harm.', 'diagnosing', 'psychiatric', 'prerequisites', 'unsupported', 'Nonetheless', 'tried', 'cases', 'How', 'perform', 'observed', 'appeared', 'useful', 'discovering', 'lengthy', 'archives', 'admin', 'such', 'appointment', 'booking', 'lacked', 'memory', 'logic', 'perception', 'note', 'patient', '6PM', 'deadline', 'determined', 'unreliable', 'device', 'doctors', 'dangerously', 'oversimplified', 'struggled', 'companion', 'motives', 'mistakes', 'furnished', 'reckless', 'intellectual', 'fitness', 'suicide', 'suggestion', 'suggests', 'want', 'constraints', 'see', 'plausible', 'usage', 'settings', 'conclude', 'nowhere', 'near', 'equipped', 'supply', 'giant', 'sector', 'lacks', 'make', 'prognosis', 'support', 'cure', 'Yes', 'proper', 'solutions', 'wrong', 'inconsistency', 'possible', 'Their', 'findings', 'shock', 'firm', 'warnings', 'towards', 'exhibit', 'expectations', 'wildly', 'unrealistic', 'aka', 'Bidirectional', 'Encoder', 'Representations', 'developed', 'Google', 'GPT', 'Comparison', 'nlp', 'huge', 'natural', 'upward', 'push', 'revolutionary', 'democratised', 'tech', 'historical', 'past', 'hands-on', 'barring', 'skills', 'fixing', 'versatile', 'troubles', 'predictions', 'switch', 'properly', 'function', 'extraction', 'generally', 'vast', 'These', 'defeat', 'motive', 'coaching', 'except', 'fascinated', 'investing', 'awful', 'lot', 'effort', 'Instead', 'effortlessly', 'fine-tuned', 'leveraged', 'required', 'introduction', 'extra', 'superior', 'work', 'simpler', 'users', 'explain', 'click', 'create', 'favoured', 'spotlight', 'reducing', 'facet', 'bring', 'said', 'challenging', 'complete', 'grasp', 'case', 'point', 'They', 'share', 'similarities', 'recent', 'constantly', 'termed', 'surpass', 'article', 'overview', 'alongside', 'comparison', 'Both', 'enormously', 'industry', 'trendy', 'them', 'winners', 'field', 'turns', 'into', '470', 'better', 'BERT-Large', 'Secondly', 'requires', 'elaborated', 'collect', 'teach', 'downstream', 'text-in', 'text-out', 'reprogram', 'directions', 'entry', 'Case', 'factor', 'educate', 'layer', 'encodings', 'gaining', 'normal', 'laptop', 'intricate', 'arithmetic', 'calculations', 'flawlessly', 'through', 'conditioning', 'rapidly', 'churn', 'applicable', '52', 'growing', 'mighty', 'monster', 'Simplified', 'Hands-On', 'Intro', 'Text', 'Classification', 'Using', 'Simple', 'Whereas', 'word', 'randomly', '15', 'sequence', 'outcome', 'fed', 'pair', 'sentences', 'then', 'receives', 'auxiliary', 'assignment', 'Here', 'tactics', 'concerned', 'binary', 'label', 'latent', 'relationship', 'challenges', 'contexts', 'method', 'tremendously', 'desired', 'preference', 'enough', 'available', 'broader', 'consists', 'encoder', 'combines', 'nicely', 'decoding', 'technique', 'producing', 'commercially', 'handy', 'open-sourced', 'open-source', 'considering', 'inception', 'fine-tune', 'accordance', 'needs', 'GPT3', 'generates', 'hand', 'reason', 'bidirectional', 'predicting', 'effect']\n"
     ]
    }
   ],
   "source": [
    "#we can check the words that occur only once\n",
    "once= fdist1.hapaxes()\n",
    "print(\"Total Word count that Occurred Once\",len(once))\n",
    "print(\"\\n\",once)"
   ]
  },
  {
   "cell_type": "markdown",
   "metadata": {},
   "source": [
    "## LONG WORDS FILTER USING LOOP"
   ]
  },
  {
   "cell_type": "code",
   "execution_count": 66,
   "metadata": {},
   "outputs": [
    {
     "name": "stdout",
     "output_type": "stream",
     "text": [
      "Length of Long Words having more than 10 characters is - 98\n"
     ]
    },
    {
     "data": {
      "text/plain": [
       "['Achievements',\n",
       " 'Applications',\n",
       " 'Autoregressive',\n",
       " 'Bidirectional',\n",
       " 'Capabilities',\n",
       " 'Characteristics',\n",
       " 'Classification',\n",
       " 'Francisco-based',\n",
       " 'Introduction',\n",
       " 'Nonetheless',\n",
       " 'Pre-trained',\n",
       " 'Representations',\n",
       " 'Transformer',\n",
       " 'Transformers',\n",
       " 'additionally',\n",
       " 'all-encompassing',\n",
       " 'alternative',\n",
       " 'application',\n",
       " 'applications',\n",
       " 'appointment',\n",
       " 'association',\n",
       " 'autoregressive',\n",
       " 'bidirectional',\n",
       " 'byte-pair-encoded',\n",
       " 'calculations',\n",
       " 'capabilities',\n",
       " 'capacity.GPT-3',\n",
       " 'challenging',\n",
       " 'clarification',\n",
       " 'commercially',\n",
       " 'conditioning',\n",
       " 'consequences',\n",
       " 'considering',\n",
       " 'constraints',\n",
       " 'constructing',\n",
       " 'controversial',\n",
       " 'conversational',\n",
       " 'dangerously',\n",
       " 'democratised',\n",
       " 'developments',\n",
       " 'discovering',\n",
       " 'distinguish',\n",
       " 'distinguishing',\n",
       " 'documentation',\n",
       " 'educational',\n",
       " 'effortlessly',\n",
       " 'engineering',\n",
       " 'entertaining',\n",
       " 'eventualities',\n",
       " 'expectations',\n",
       " 'extraordinary',\n",
       " 'fascinating',\n",
       " 'fine-tuning',\n",
       " 'fundamental',\n",
       " 'general-purpose',\n",
       " 'governmental',\n",
       " 'high-altitude',\n",
       " 'improvement',\n",
       " 'inconsistency',\n",
       " 'information',\n",
       " 'intellectual',\n",
       " 'introducing',\n",
       " 'introduction',\n",
       " 'large-scale',\n",
       " 'life-or-death',\n",
       " 'misinformation',\n",
       " 'open-source',\n",
       " 'open-sourced',\n",
       " 'oversimplified',\n",
       " 'performance',\n",
       " 'performances',\n",
       " 'philosopher',\n",
       " 'pre-trained',\n",
       " 'pre-training',\n",
       " 'predecessor',\n",
       " 'predictions',\n",
       " 'prerequisites',\n",
       " 'psychiatric',\n",
       " 'question-answering',\n",
       " 'recommended',\n",
       " 'relationship',\n",
       " 'representations',\n",
       " 'representing',\n",
       " 'researchers',\n",
       " 'revolutionary',\n",
       " 'seventy-five',\n",
       " 'similarities',\n",
       " 'state-of-the-art',\n",
       " 'third-generation',\n",
       " 'traditional',\n",
       " 'transformer',\n",
       " 'transformer-based',\n",
       " 'translation',\n",
       " 'tremendously',\n",
       " 'unrealistic',\n",
       " 'unscrambling',\n",
       " 'unsupervised',\n",
       " 'unsupported']"
      ]
     },
     "execution_count": 66,
     "metadata": {},
     "output_type": "execute_result"
    }
   ],
   "source": [
    "#Fine-grained selection of words through set theory: LONG WORDS FILTER USING LOOP\n",
    "V=set(nltk_blog)\n",
    "long_words=[w for w in V if len(w) > 10]\n",
    "\n",
    "count= len(long_words)\n",
    "print(\"Length of Long Words having more than 10 characters is -\", count)\n",
    "sorted(long_words)"
   ]
  },
  {
   "cell_type": "markdown",
   "metadata": {},
   "source": [
    "## N-Grams"
   ]
  },
  {
   "cell_type": "code",
   "execution_count": 68,
   "metadata": {},
   "outputs": [
    {
     "data": {
      "text/plain": [
       "[('Introduction', 'GPT-3'),\n",
       " ('GPT-3', 'Surpassing'),\n",
       " ('Surpassing', 'previous'),\n",
       " ('previous', 'models'),\n",
       " ('models', '’'),\n",
       " ('’', 'capabilities'),\n",
       " ('capabilities', 'and'),\n",
       " ('and', 'accuracy'),\n",
       " ('accuracy', ','),\n",
       " (',', 'OpenAI'),\n",
       " ('OpenAI', 'created'),\n",
       " ('created', 'one'),\n",
       " ('one', 'of'),\n",
       " ('of', 'the'),\n",
       " ('the', 'most'),\n",
       " ('most', 'controversial'),\n",
       " ('controversial', 'pre-trained'),\n",
       " ('pre-trained', 'NLP'),\n",
       " ('NLP', 'models'),\n",
       " ('models', '—'),\n",
       " ('—', 'GPT-3'),\n",
       " ('GPT-3', ','),\n",
       " (',', 'after'),\n",
       " ('after', 'its'),\n",
       " ('its', 'major'),\n",
       " ('major', 'setback'),\n",
       " ('setback', 'with'),\n",
       " ('with', 'GPT-2'),\n",
       " ('GPT-2', '.'),\n",
       " ('.', 'Similar'),\n",
       " ('Similar', 'to'),\n",
       " ('to', 'BERT'),\n",
       " ('BERT', ','),\n",
       " (',', 'GPT-3'),\n",
       " ('GPT-3', 'is'),\n",
       " ('is', 'also'),\n",
       " ('also', 'a'),\n",
       " ('a', 'large-scale'),\n",
       " ('large-scale', 'transformer-based'),\n",
       " ('transformer-based', 'language'),\n",
       " ('language', 'model'),\n",
       " ('model', ','),\n",
       " (',', 'which'),\n",
       " ('which', 'is'),\n",
       " ('is', 'trained'),\n",
       " ('trained', 'on'),\n",
       " ('on', '175'),\n",
       " ('175', 'billion'),\n",
       " ('billion', 'parameters')]"
      ]
     },
     "execution_count": 68,
     "metadata": {},
     "output_type": "execute_result"
    }
   ],
   "source": [
    "#Collocations and Bigrams\n",
    "list(bigrams(nltk_blog[:50]))\n",
    "#bigram for first 50 words"
   ]
  },
  {
   "cell_type": "markdown",
   "metadata": {},
   "source": [
    "N-grams are combinations of one or more words that represent entities, phrases, concepts, and themes that appear in text. Generally speaking, the lower the value of “n”, the more general the phrase or entity.\n",
    "\n",
    "Two words is the perfect number for capturing the key phrases and themes that provide context for entity sentiment.\n",
    "### But be warned: N-grams can come a lot “noise”. Phrases such as “with that”, which technically are bi-grams, offer no value in context determination, and do little more than clutter your view."
   ]
  },
  {
   "cell_type": "markdown",
   "metadata": {},
   "source": [
    "## Using Stop Words to Clean Up N-Gram Analysis"
   ]
  },
  {
   "cell_type": "code",
   "execution_count": 83,
   "metadata": {},
   "outputs": [],
   "source": [
    "from nltk.corpus import stopwords \n",
    "from nltk.tokenize import word_tokenize "
   ]
  },
  {
   "cell_type": "code",
   "execution_count": 89,
   "metadata": {},
   "outputs": [
    {
     "name": "stdout",
     "output_type": "stream",
     "text": [
      "['Introduction', 'GPT-3', 'Surpassing', 'previous', 'models', '’', 'capabilities', 'accuracy', ',', 'OpenAI', 'created', 'one', 'controversial', 'pre-trained', 'NLP', 'models', '—', 'GPT-3', ',', 'major', 'setback', 'GPT-2', '.', 'Similar', 'BERT', ',', 'GPT-3', 'also', 'large-scale', 'transformer-based', 'language', 'model', ',', 'trained', '175', 'billion', 'parameters', '10x', 'previous', 'models', '.', 'The', 'company', 'showcased', 'extraordinary', 'performances', 'tasks', 'like', 'translation', ',', 'Q', '&', 'A', ',', 'unscrambling', 'words', '.', 'This', 'third-generation', 'language', 'prediction', 'model', 'autoregressive', 'nature', 'works', 'like', 'traditional', 'models', 'takes', 'input', 'vector', 'words', 'predicts', 'outputs', 'based', 'training', '.', 'With', 'unsupervised', 'machine', 'learning', 'few-shot', 'learning', ',', 'model', 'works', 'context', '.', 'Characteristics', '&', 'Key', 'Achievements', ':', '*', 'Autoregressive', 'nature', '.', '*', 'GPT-3', 'showcases', 'language', 'model', 'trained', 'massive', 'range', 'data', 'solve', 'various', 'NLP', 'tasks', 'without', 'fine-tuning', '.', '*', 'Can', 'applied', 'write', 'news', ',', 'generate', 'articles', 'well', 'codes', '.', '*', 'Achieved', 'score', '81.5', 'F1', 'conversational', 'question', 'answering', 'benchmark', 'zero-shot', 'learning', ';', '84.0', 'F1', 'one-shot', 'learning', ';', '85.0', 'F1', 'few-shot', 'learning', '.', '*', 'Achieved', '64.3', '%', 'accuracy', 'TriviaAQ', 'benchmark', '76.2', '%', 'accuracy', 'LAMBADA', ',', 'zero-shot', 'learning', '.', 'Applications', ':', '*', 'For', 'building', 'applications', 'websites', '*', 'For', 'generating', 'ML', 'code', '*', 'Writing', 'articles', 'podcasts', '*', 'For', 'legal', 'documents', 'generating', 'resumes', 'Generative', 'Pre-trained', 'Transformer', 'three', '(', 'GPT-3', ')', 'autoregressive', 'language', 'mannequin', 'makes', 'use', 'deep', 'mastering', 'produce', 'human-like', 'text', '.', 'It', 'third-generation', 'language', 'prediction', 'mannequin', 'GPT-n', 'collection', 'created', 'aid', 'OpenAI', ',', 'for-profit', 'San', 'Francisco-based', 'synthetic', 'talent', 'lookup', 'laboratory', '.', 'GPT-3', \"'s\", 'full', 'model', 'ability', 'one', 'hundred', 'seventy-five', 'billion', 'desktop', 'mastering', 'parameters', '.', 'GPT-3', ',', 'used', 'delivered', 'May', '2020', ',', 'beta', 'checking', 'July', '2020', ',', 'section', 'vogue', 'herbal', 'language', 'processing', '(', 'NLP', ')', 'structures', 'pre-trained', 'language', 'representations', '.', 'Prior', 'launch', 'GPT-3', ',', 'biggest', 'language', 'mannequin', 'used', 'Microsoft', \"'s\", 'Turing', 'NLG', ',', 'added', 'February', '2020', ',', 'ability', '17', 'billion', 'parameters', 'much', 'less', '10', 'percentage', 'contrast', 'GPT-3', '.', 'The', 'excellent', 'textual', 'content', 'generated', 'means', 'GPT-3', 'excessive', 'tough', 'distinguish', 'written', 'using', 'human', ',', 'advantages', 'risks', '.', 'Thirty-one', 'OpenAI', 'researchers', 'engineers', 'introduced', 'unique', 'May', '28', ',', '2020', 'paper', 'introducing', 'GPT-3', '.', 'In', 'paper', ',', 'warned', 'GPT-3', \"'s\", 'manageable', 'risks', 'referred', 'lookup', 'mitigate', 'risk', '.', 'David', 'Chalmers', ',', 'Australian', 'philosopher', ',', 'described', 'GPT-3', '``', 'one', 'fascinating', 'necessary', 'AI', 'structures', 'ever', 'produced', '.', \"''\", 'Capabilities', 'A', 'May', '28', ',', '2020', 'arXiv', 'preprint', 'aid', 'team', '31', 'engineers', 'researchers', 'OpenAI', 'described', 'improvement', 'GPT-3', ',', 'third', 'generation', '``', 'state-of-the-art', 'language', 'model', \"''\", '.', 'The', 'group', 'elevated', 'potential', 'GPT-3', 'using', 'two', 'orders', 'magnitude', 'predecessor', ',', 'GPT-2', ',', '[', '12', ']', 'making', 'GPT-3', 'greatest', 'non-sparse', '[', 'clarification', 'needed', ']', 'language', 'mannequin', 'date', '.', '[', '1', ']', ':14', '[', '2', ']', 'GPT-3', \"'s\", 'greater', 'quantity', 'parameters', 'supplies', 'greater', 'stage', 'accuracy', 'relative', 'preceding', 'variations', 'smaller', 'capacity.GPT-3', \"'s\", 'ability', 'ten', 'instances', 'large', 'Microsoft', \"'s\", 'Turing', 'NLG', '.', 'Sixty', 'percentage', 'weighted', 'pre-training', 'dataset', 'GPT-3', 'comes', 'filtered', 'model', 'Common', 'Crawl', 'consisting', '410', 'billion', 'byte-pair-encoded', 'tokens.9', 'Other', 'sources', '19', 'billion', 'tokens', 'WebText2', 'representing', '22', '%', 'weighted', 'total', ',', '12', 'billion', 'tokens', 'Books1', 'representing', '8', '%', ',', 'fifty', 'five', 'billion', 'tokens', 'Books2', 'representing', '8', '%', ',', 'three', 'billion', 'tokens', 'Wikipedia', 'representing', '3', '%', '.', '[', '1', ']', ':9', 'GPT-3', 'used', 'educated', 'thousands', 'billions', 'phrases', 'successful', 'coding', 'CSS', ',', 'JSX', ',', 'Python', ',', 'amongst', 'others', '.', 'Since', 'GPT-3', \"'s\", 'education', 'statistics', 'all-encompassing', ',', 'require', 'addition', 'education', 'awesome', 'language', 'tasks', '.', 'On', 'June', '11', ',', '2020', ',', 'OpenAI', 'introduced', 'customers', 'ought', 'request', 'get', 'admission', 'common', 'GPT-3', 'API—a', '``', 'machine', 'getting', 'know', 'toolset', \"''\", '—to', 'assist', 'OpenAI', '``', 'explore', 'strengths', 'limits', \"''\", 'new', 'technology', '.', 'The', 'invitation', 'described', 'API', 'general-purpose', '``', 'text', ',', 'textual', 'content', \"''\", 'interface', 'entire', 'nearly', '``', 'English', 'language', 'task', \"''\", ',', 'alternative', 'ordinary', 'single', 'use-case', '.', 'According', 'one', 'user', ',', 'get', 'admission', 'personal', 'early', 'launch', 'OpenAI', 'GPT-3', 'API', ',', 'GPT-3', '``', 'eerily', 'good', \"''\", 'writing', '``', 'amazingly', 'coherent', 'text', \"''\", 'solely', 'easy', 'prompts', '.', 'Because', 'GPT-3', '``', 'generate', 'information', 'articles', 'human', 'evaluators', 'subject', 'distinguishing', 'articles', 'written', 'via', 'humans', ',', \"''\", 'GPT-3', '``', 'potential', 'increase', 'recommended', 'hazardous', 'purposes', 'language', 'models', '.', \"''\", 'In', 'May', '28', ',', '2020', 'paper', ',', 'researchers', 'described', 'element', 'workable', '``', 'harmful', 'consequences', 'GPT-3', \"''\", 'encompass', '``', 'misinformation', ',', 'spam', ',', 'phishing', ',', 'abuse', 'criminal', 'governmental', 'processes', ',', 'fraudulent', 'educational', 'essay', 'writing', 'social', 'engineering', 'pretexting', \"''\", '.', 'The', 'authors', 'draw', 'interest', 'risks', 'name', 'lookup', 'chance', 'mitigation', '.', 'Facebook', '’', 'chief', 'AI', 'scientist', 'says', 'GPT-3', '‘', 'good', '’', 'dialog', 'system', 'In', 'Facebook', 'publish', 'posted', 'Tuesday', ',', 'social', 'network', '’', 'chief', 'AI', 'scientist', 'stated', 'textual', 'content', 'generator', '“', 'good', '”', 'question-answering', 'dialog', 'system', ',', 'different', 'strategies', 'produce', 'higher', 'results', '.', '“', 'It', '’', 'entertaining', ',', 'possibly', 'mildly', 'beneficial', 'innovative', 'help', ',', '”', 'LeCun', 'wrote', '.', '“', 'But', 'attempting', 'construct', 'smart', 'machines', 'means', 'scaling', 'language', 'fashions', 'like', 'constructing', 'high-altitude', 'airplanes', 'go', 'moon', '.', 'You', 'would', 'possibly', 'beat', 'altitude', 'records', ',', 'however', 'going', 'moon', 'require', 'absolutely', 'special', 'approach.', '”', 'To', 'guide', 'claims', ',', 'LeCun', 'pointed', 'new', 'find', 'model', '’', 'overall', 'performance', 'healthcare', 'eventualities', 'using', 'Nabla', ',', 'MedTech', 'association', 'cofounded', 'way', 'two', 'former', 'colleagues', 'Facebook', '.', 'The', 'researchers', 'observe', 'Open', 'AI', '’', 'GPT-3', 'tips', 'put', 'healthcare', '“', 'excessive', 'stakes', 'class', 'due', 'fact', 'human', 'beings', 'depend', 'correct', 'scientific', 'statistics', 'life-or-death', 'decisions', ',', 'errors', 'right', 'end', 'result', 'serious', 'harm.', '”', 'In', 'addition', ',', 'diagnosing', 'clinical', 'psychiatric', 'prerequisites', 'unsupported', 'makes', 'use', 'model', '.', 'Nonetheless', ',', 'Nabla', 'tried', 'range', 'healthcare', 'use', 'cases', '.', 'How', 'GPT-3', 'perform', '.', 'The', 'researchers', 'observed', 'GPT-3', 'appeared', 'useful', 'discovering', 'data', 'lengthy', 'archives', 'fundamental', 'admin', 'duties', 'appointment', 'booking', '.', 'But', 'lacked', 'memory', ',', 'logic', ',', 'perception', 'time', 'many', 'greater', 'particular', 'questions', '.', 'Credit', ':', 'NablaGPT-3', 'note', 'patient', '’', '6PM', 'time', 'deadline', '.', 'Nabla', 'additionally', 'determined', 'GPT-3', 'used', 'unreliable', 'Q', '&', 'A', 'aid', 'device', 'doctors', ',', 'dangerously', 'oversimplified', 'scientific', 'documentation', 'analysis', ',', 'struggled', 'companion', 'motives', 'consequences', '.', 'The', 'mannequin', 'additionally', 'made', 'fundamental', 'mistakes', 'analysis', 'furnished', 'reckless', 'intellectual', 'fitness', 'advice', '.', 'Credit', ':', 'NablaGPT-3', '’', 'suicide', 'suggestion', 'suggests', 'model', '’', 'want', 'constraints', '.', 'The', 'researchers', 'see', 'plausible', 'usage', 'language', 'fashions', 'scientific', 'settings', '.', 'But', 'conclude', 'GPT-3', '“', 'nowhere', 'near', '”', 'equipped', 'supply', 'giant', 'assist', 'sector', ':', 'Because', 'way', 'trained', ',', 'lacks', 'scientific', 'scientific', 'knowledge', 'would', 'make', 'beneficial', 'scientific', 'documentation', ',', 'prognosis', 'support', ',', 'cure', 'advice', 'clinical', 'Q', '&', 'A', '.', 'Yes', ',', 'GPT-3', 'proper', 'solutions', 'however', 'additionally', 'wrong', ',', 'inconsistency', 'simply', 'longer', 'possible', 'healthcare', '.', 'Their', 'findings', 'shock', 'OpenAI', ',', 'given', 'firm', '’', 'warnings', 'towards', 'use', 'GPT-3', 'healthcare', '.', 'But', 'exhibit', 'many', 'expectations', 'mannequin', 'wildly', 'unrealistic', '.', 'BERT', ',', 'aka', 'Bidirectional', 'Encoder', 'Representations', 'Transformers', ',', 'pre-trained', 'NLP', 'model', 'developed', 'Google', 'GPT', 'Comparison', 'nlp', 'The', 'huge', 'developments', 'natural', 'language', 'processing', 'given', 'upward', 'push', 'revolutionary', 'mannequin', 'structure', 'like', 'GPT-3', 'BERT', '.', 'Such', 'pre-trained', 'fashions', 'democratised', 'desktop', 'learning', ',', 'approves', 'even', 'human', 'beings', 'much', 'less', 'tech', 'historical', 'past', 'get', 'hands-on', 'constructing', 'ML', 'applications', ',', 'barring', 'education', 'mannequin', 'scratch', '.', 'With', 'skills', 'fixing', 'versatile', 'troubles', 'like', 'making', 'correct', 'predictions', 'switch', 'getting', 'know', 'properly', 'function', 'extraction', ',', 'new', 'NLP', 'fashions', 'generally', 'skilled', 'vast', 'vary', 'data', ',', 'billions', '.', 'These', 'pre-trained', 'fashions', 'defeat', 'motive', 'coaching', 'mannequin', 'scratch', 'except', 'one', 'fascinated', 'investing', 'awful', 'lot', 'time', 'effort', 'constructing', 'one', '.', 'Instead', ',', 'language', 'fashions', 'like', 'BERT', 'effortlessly', 'fine-tuned', 'leveraged', 'required', 'tasks', '.', 'However', ',', 'introduction', 'extra', 'superior', 'variations', 'like', 'GPT-3', 'made', 'work', 'even', 'simpler', 'users', ',', 'place', 'one', 'simply', 'explain', 'task', ',', 'click', ',', 'one', 'create', 'favoured', 'application', '.', 'Such', 'developments', 'spotlight', 'reducing', 'facet', 'knowledge', 'bring', '.', 'With', 'said', ',', 'challenging', 'many', 'get', 'complete', 'grasp', 'evaluation', 'pre-trained', 'NLP', 'fashions', '—', 'case', 'point', ':', 'GPT-3', 'BERT', '.', 'They', 'longer', 'solely', 'share', 'many', 'similarities', 'however', 'additionally', 'recent', 'fashions', 'constantly', 'termed', 'surpass', 'preceding', 'fashions', 'different', 'parameters', '.', 'Therefore', ',', 'article', 'recognize', 'overview', 'every', 'model', ',', 'alongside', 'comparison', '.', 'Both', 'fashions', '—', 'GPT-3', 'BERT', 'enormously', 'new', 'industry', ';', 'however', ',', 'trendy', 'overall', 'performance', 'made', 'winners', 'amongst', 'different', 'fashions', 'herbal', 'language', 'processing', 'field', '.', 'However', ',', 'skilled', 'one', 'hundred', 'seventy-five', 'billion', 'parameters', ',', 'GPT-3', 'turns', '470', 'instances', 'better', 'dimension', 'BERT-Large', '.', 'Secondly', ',', 'whilst', 'BERT', 'requires', 'elaborated', 'fine-tuning', 'system', 'place', 'customers', 'collect', 'statistics', 'examples', 'teach', 'mannequin', 'particular', 'downstream', 'tasks', ',', 'GPT-3', '’', 'text-in', 'text-out', 'API', 'approves', 'customers', 'reprogram', 'use', 'directions', 'get', 'right', 'entry', '.', 'Case', 'factor', '—', 'sentiment', 'evaluation', 'query', 'answering', 'tasks', ',', 'use', 'BERT', ',', 'customers', 'educate', 'mannequin', 'separate', 'layer', 'sentence', 'encodings', '.', 'However', ',', 'GPT-3', 'makes', 'use', 'few-shot', 'gaining', 'knowledge', 'system', 'enter', 'token', 'predict', 'output', 'result', '.', 'On', 'normal', 'NLP', 'duties', 'like', 'laptop', 'translation', ',', 'answering', 'questions', ',', 'intricate', 'arithmetic', 'calculations', 'mastering', 'new', 'words', ',', 'GPT-3', 'works', 'flawlessly', 'conditioning', 'examples', '—', 'few-shot', 'learning', '.', 'Similarly', ',', 'textual', 'content', 'technology', 'well', ',', 'GPT-3', 'works', 'prompts', 'rapidly', 'churn', 'applicable', 'outputs', ',', 'accuracy', '52', '%', '.', 'OpenAI', ',', 'simply', ',', 'aid', 'growing', 'dimension', 'mannequin', 'education', 'parameters', 'created', 'mighty', 'monster', 'model', '.', 'Transformers', 'Simplified', ':', 'A', 'Hands-On', 'Intro', 'Text', 'Classification', 'Using', 'Simple', 'Transformers', 'Whereas', ',', 'recognize', 'context', 'word', ',', 'BERT', 'skilled', 'masks', 'language', 'mannequin', 'tasks', ',', 'place', 'randomly', 'masks', '15', '%', 'phrases', 'every', 'sequence', 'predict', 'outcome', '.', 'Similarly', ',', 'sentence', 'prediction', ',', 'BERT', 'fed', 'pair', 'sentences', 'enter', 'receives', 'skilled', 'delivered', 'auxiliary', 'assignment', 'prediction', '.', 'Here', 'tactics', 'sentence', 'concerned', 'predict', 'binary', 'label', 'sentence', 'prediction', '.', 'On', 'structure', 'dimension', ',', 'whilst', 'BERT', 'educated', 'latent', 'relationship', 'challenges', 'textual', 'content', 'unique', 'contexts', ',', 'GPT-3', 'education', 'method', 'tremendously', 'easy', 'contrast', 'BERT', '.', 'Therefore', ',', 'GPT-3', 'desired', 'preference', 'duties', 'place', 'enough', 'statistics', 'available', ',', 'broader', 'vary', 'application', '.', 'While', 'transformer', 'consists', 'two', 'separate', 'mechanisms', '—', 'encoder', 'decoder', ',', 'BERT', 'mannequin', 'solely', 'works', 'encoding', 'mechanisms', 'generate', 'language', 'model', ';', 'however', ',', 'GPT-3', 'combines', 'encoding', 'nicely', 'decoding', 'technique', 'get', 'transformer', 'decoder', 'producing', 'text', '.', 'While', 'GPT-3', 'commercially', 'handy', 'API', ',', 'however', 'longer', 'open-sourced', ',', 'BERT', 'open-source', 'mannequin', 'considering', 'inception', 'approves', 'customers', 'fine-tune', 'accordance', 'needs', '.', 'While', 'GPT3', 'generates', 'output', 'one', 'token', 'time', ',', 'BERT', ',', 'different', 'hand', ',', 'autoregressive', ',', 'reason', 'makes', 'use', 'deep', 'bidirectional', 'context', 'predicting', 'effect', 'sentiment', 'evaluation', 'query', 'answering', '.']\n"
     ]
    }
   ],
   "source": [
    "stop_words = set(stopwords.words('english')) \n",
    "  \n",
    "word_tokens = word_tokenize(blog_gpt) \n",
    "  \n",
    "filtered_sentence = [w for w in word_tokens if not w in stop_words] \n",
    "  \n",
    "filtered_sentence = [] \n",
    "  \n",
    "for w in word_tokens: \n",
    "    if w not in stop_words: \n",
    "        filtered_sentence.append(w) \n",
    "  \n",
    "print(filtered_sentence)"
   ]
  },
  {
   "cell_type": "markdown",
   "metadata": {},
   "source": [
    "Using the Stop Words Removal, we can see the Blog is now free from unwanted words."
   ]
  },
  {
   "cell_type": "code",
   "execution_count": 88,
   "metadata": {},
   "outputs": [
    {
     "data": {
      "text/plain": [
       "[('Introduction', 'GPT-3'),\n",
       " ('GPT-3', 'Surpassing'),\n",
       " ('Surpassing', 'previous'),\n",
       " ('previous', 'models'),\n",
       " ('models', '’'),\n",
       " ('’', 'capabilities'),\n",
       " ('capabilities', 'accuracy'),\n",
       " ('accuracy', ','),\n",
       " (',', 'OpenAI'),\n",
       " ('OpenAI', 'created'),\n",
       " ('created', 'one'),\n",
       " ('one', 'controversial'),\n",
       " ('controversial', 'pre-trained'),\n",
       " ('pre-trained', 'NLP'),\n",
       " ('NLP', 'models'),\n",
       " ('models', '—'),\n",
       " ('—', 'GPT-3'),\n",
       " ('GPT-3', ','),\n",
       " (',', 'major'),\n",
       " ('major', 'setback'),\n",
       " ('setback', 'GPT-2'),\n",
       " ('GPT-2', '.'),\n",
       " ('.', 'Similar'),\n",
       " ('Similar', 'BERT'),\n",
       " ('BERT', ','),\n",
       " (',', 'GPT-3'),\n",
       " ('GPT-3', 'also'),\n",
       " ('also', 'large-scale'),\n",
       " ('large-scale', 'transformer-based'),\n",
       " ('transformer-based', 'language'),\n",
       " ('language', 'model'),\n",
       " ('model', ','),\n",
       " (',', 'trained'),\n",
       " ('trained', '175'),\n",
       " ('175', 'billion'),\n",
       " ('billion', 'parameters'),\n",
       " ('parameters', '10x'),\n",
       " ('10x', 'previous'),\n",
       " ('previous', 'models'),\n",
       " ('models', '.'),\n",
       " ('.', 'The'),\n",
       " ('The', 'company'),\n",
       " ('company', 'showcased'),\n",
       " ('showcased', 'extraordinary'),\n",
       " ('extraordinary', 'performances'),\n",
       " ('performances', 'tasks'),\n",
       " ('tasks', 'like'),\n",
       " ('like', 'translation'),\n",
       " ('translation', ',')]"
      ]
     },
     "execution_count": 88,
     "metadata": {},
     "output_type": "execute_result"
    }
   ],
   "source": [
    "#Collocations and Bigrams\n",
    "list(bigrams(filtered_sentence[:50]))\n",
    "#bigram for first 50 words"
   ]
  },
  {
   "cell_type": "code",
   "execution_count": 73,
   "metadata": {},
   "outputs": [
    {
     "data": {
      "text/plain": [
       "['applicable', 'available', 'manageable', 'unreliable', 'workable']"
      ]
     },
     "execution_count": 73,
     "metadata": {},
     "output_type": "execute_result"
    }
   ],
   "source": [
    "#Conditional Python\n",
    "#unique words containing 'able' in NLTK_BLOG\n",
    "sorted(w for w in set(nltk_blog) if w.endswith('able'))"
   ]
  },
  {
   "cell_type": "code",
   "execution_count": 176,
   "metadata": {},
   "outputs": [],
   "source": [
    "def get_top_ngram(corpus, n=None):\n",
    "    vec = CountVectorizer(ngram_range=(n, n)).fit(corpus)\n",
    "    bag_of_words = vec.transform(corpus)\n",
    "    sum_words = bag_of_words.sum(axis=0) \n",
    "    words_freq = [(word, sum_words[0, idx]) \n",
    "                  for word, idx in vec.vocabulary_.items()]\n",
    "    words_freq =sorted(words_freq, key = lambda x: x[1], reverse=True)\n",
    "    return words_freq[:10]\n"
   ]
  },
  {
   "cell_type": "code",
   "execution_count": 181,
   "metadata": {},
   "outputs": [
    {
     "data": {
      "text/plain": [
       "<matplotlib.axes._subplots.AxesSubplot at 0x225e11ade08>"
      ]
     },
     "execution_count": 181,
     "metadata": {},
     "output_type": "execute_result"
    },
    {
     "data": {
      "image/png": "[encoded data removed]",
      "text/plain": [
       "<Figure size 432x288 with 1 Axes>"
      ]
     },
     "metadata": {
      "needs_background": "light"
     },
     "output_type": "display_data"
    }
   ],
   "source": [
    "import seaborn as sns\n",
    "top_n_bigrams=get_top_ngram(nltk_blog,2)[:10] \n",
    "x,y=map(list,zip(*top_n_bigrams))\n",
    "sns.barplot(x=y,y=x)"
   ]
  },
  {
   "cell_type": "markdown",
   "metadata": {},
   "source": [
    "We can observe that the bigrams such as ‘pre-trained’, ’few shot’ that are related to GPT-3 Blog dominate the Blog."
   ]
  },
  {
   "cell_type": "markdown",
   "metadata": {},
   "source": [
    "## TEXT BLOB"
   ]
  },
  {
   "cell_type": "code",
   "execution_count": 74,
   "metadata": {},
   "outputs": [],
   "source": [
    "#import textblob\n",
    "from textblob import TextBlob\n",
    "from wordcloud import WordCloud\n",
    "from textblob import Word\n"
   ]
  },
  {
   "cell_type": "markdown",
   "metadata": {},
   "source": [
    "\n",
    "### TextBlob is a Python library for processing textual data. \n",
    "### It provides a simple API for diving into common natural language processing (NLP) tasks \n",
    "### such as part-of-speech tagging, noun phrase extraction, sentiment analysis, classification, translation, and more."
   ]
  },
  {
   "cell_type": "code",
   "execution_count": 77,
   "metadata": {},
   "outputs": [
    {
     "data": {
      "text/plain": [
       "TextBlob(\"Introduction\n",
       "GPT-3\n",
       "Surpassing previous models’ capabilities and accuracy, OpenAI created one of the most controversial pre-trained NLP models — GPT-3, after its major setback with GPT-2. Similar to BERT, GPT-3 is also a large-scale transformer-based language model, which is trained on 175 billion parameters and is 10x more than previous models. The company has showcased its extraordinary performances for tasks like translation, Q&A, and unscrambling words. This third-generation language prediction model is autoregressive in nature and works like traditional models where it takes the input vector words and predicts the outputs based on its training. With unsupervised machine learning and few-shot learning, this model works in context.\n",
       "\n",
       "Characteristics & Key Achievements:\n",
       "* Autoregressive in nature.\n",
       "* GPT-3 showcases how a language model trained on a massive range of data can solve various NLP tasks without fine-tuning.\n",
       "* Can be applied to write news, generate articles as well as codes.\n",
       "* Achieved a score of 81.5 F1 on conversational question answering benchmark in zero-shot learning; 84.0 F1 in one-shot learning; and 85.0 F1 in few-shot learning.\n",
       "* Achieved 64.3% accuracy on TriviaAQ benchmark and 76.2% accuracy on LAMBADA, with zero-shot learning.\n",
       "Applications:\n",
       "* For building applications and websites\n",
       "* For generating ML code\n",
       "* Writing articles and podcasts\n",
       "* For legal documents and generating resumes\n",
       "Generative Pre-trained Transformer three (GPT-3) is an autoregressive language mannequin that makes use of deep mastering to produce human-like text. It is the third-generation language prediction mannequin in the GPT-n collection created with the aid of OpenAI, a for-profit San Francisco-based synthetic talent lookup laboratory. GPT-3's full model has an ability of one hundred seventy-five billion desktop mastering parameters. GPT-3, which used to be delivered in May 2020, and is in beta checking out as of July 2020, is section of a vogue in herbal language processing (NLP) structures of pre-trained language representations. Prior to the launch of GPT-3, the biggest language mannequin used to be Microsoft's Turing NLG, added in February 2020, with an ability of 17 billion parameters or much less than 10 percentage in contrast to GPT-3.\n",
       "\n",
       "The excellent of the textual content generated by means of GPT-3 is so excessive that it is tough to distinguish from that written by using a human, which has each advantages and risks. Thirty-one OpenAI researchers and engineers introduced the unique May 28, 2020 paper introducing GPT-3. In their paper, they warned of GPT-3's manageable risks and referred to as for lookup to mitigate risk. David Chalmers, an Australian philosopher, described GPT-3 as \"one of the most fascinating and necessary AI structures ever produced.\"\n",
       "\n",
       "\n",
       "Capabilities\n",
       "A May 28, 2020 arXiv preprint with the aid of a team of 31 engineers and researchers at OpenAI described the improvement of GPT-3, a third generation \"state-of-the-art language model\". The group elevated the potential of GPT-3 by using over two orders of magnitude from that of its predecessor, GPT-2,[12] making GPT-3 the greatest non-sparse[further clarification needed] language mannequin to date.[1]:14[2] GPT-3's greater quantity of parameters supplies it a greater stage of accuracy relative to preceding variations with smaller capacity.GPT-3's ability is ten instances large than that of Microsoft's Turing NLG.\n",
       "\n",
       "Sixty percentage of the weighted pre-training dataset for GPT-3 comes from a filtered model of Common Crawl consisting of 410 billion byte-pair-encoded tokens.9 Other sources are 19 billion tokens from WebText2 representing 22% of the weighted total, 12 billion tokens from Books1 representing 8%, fifty five billion tokens from Books2 representing 8%, and three billion tokens from Wikipedia representing 3%.[1]:9 GPT-3 used to be educated on thousands of billions of phrases and is successful of coding in CSS, JSX, Python, amongst others. Since GPT-3's education statistics was once all-encompassing, it does now not require in addition education for awesome language tasks.\n",
       "\n",
       "On June 11, 2020, OpenAI introduced that customers ought to request get admission to its common GPT-3 API—a \"machine getting to know toolset\"—to assist OpenAI \"explore the strengths and limits\" of this new technology. The invitation described how this API had a general-purpose \"text in, textual content out\" interface that can entire nearly \"any English language task\", as an alternative of the ordinary single use-case. According to one user, who had get admission to a personal early launch of the OpenAI GPT-3 API, GPT-3 was once \"eerily good\" at writing \"amazingly coherent text\" with solely a few easy prompts.\n",
       "\n",
       "Because GPT-3 can \"generate information articles which human evaluators have subject distinguishing from articles written via humans,\" GPT-3 has the \"potential to increase each the recommended and hazardous purposes of language models.\" In their May 28, 2020 paper, the researchers described in element the workable \"harmful consequences of GPT-3\" which encompass \"misinformation, spam, phishing, abuse of criminal and governmental processes, fraudulent educational essay writing and social engineering pretexting\". The authors draw interest to these risks to name for lookup on chance mitigation.\n",
       "\n",
       "Facebook’s chief AI scientist says GPT-3 is ‘not very good’ as a dialog system\n",
       "\n",
       "In a Facebook publish posted Tuesday, the social network’s chief AI scientist stated the textual content generator is “not very good” as a question-answering or dialog system, and that different strategies produce higher results.\n",
       "“It’s entertaining, and possibly mildly beneficial as an innovative help,” LeCun wrote. “But attempting to construct smart machines by means of scaling up language fashions is like constructing high-altitude airplanes to go to the moon. You would possibly beat altitude records, however going to the moon will require an absolutely special approach.”\n",
       "To guide his claims, LeCun pointed to a new find out about of the model’s overall performance in healthcare eventualities by using Nabla, a MedTech association cofounded by way of two of his former colleagues at Facebook. The researchers observe that Open AI’s GPT-3 tips put healthcare “in the excessive stakes class due to the fact human beings depend on correct scientific statistics for life-or-death decisions, and errors right here should end result in serious harm.” In addition, diagnosing clinical or psychiatric prerequisites are unsupported makes use of the model. Nonetheless, Nabla tried it out on a range of healthcare use cases.\n",
       "How did GPT-3 perform. \n",
       "The researchers observed that GPT-3 appeared useful in discovering data in lengthy archives and in fundamental admin duties such as appointment booking. But it lacked the memory, logic, and perception of time for many greater particular questions.\n",
       "Credit: NablaGPT-3 did not note the patient’s 6PM time deadline.\n",
       "Nabla additionally determined that GPT-3 used to be an unreliable Q&A aid device for doctors, dangerously oversimplified scientific documentation analysis, and struggled to companion motives with consequences.\n",
       "The mannequin additionally made some fundamental mistakes in analysis and furnished some reckless intellectual fitness advice.\n",
       "Credit: NablaGPT-3’s suicide suggestion suggests the model’s want for constraints.\n",
       "The researchers do see some plausible for the usage of language fashions in scientific settings. But they conclude that GPT-3 is “nowhere near” equipped to supply giant assist in the sector:\n",
       "Because of the way it was once trained, it lacks the scientific and scientific knowledge that would make it beneficial for scientific documentation, prognosis support, cure advice or any clinical Q&A. Yes, GPT-3 can be proper in its solutions however it can additionally be very wrong, and this inconsistency is simply no longer possible in healthcare.\n",
       "Their findings will not shock OpenAI, given the firm’s warnings towards the use of GPT-3 in healthcare. But they do exhibit that many expectations for the mannequin are wildly unrealistic.\n",
       "BERT, aka Bidirectional Encoder Representations from Transformers, is a pre-trained NLP model developed by Google\n",
       "\n",
       "GPT Comparison with nlp\n",
       "The huge developments in natural language processing have given upward push to revolutionary mannequin structure like GPT-3 and BERT. Such pre-trained fashions have democratised desktop learning, which approves even human beings with much less tech historical past to get their hands-on constructing ML applications, barring education a mannequin from scratch. With skills of fixing versatile troubles like making correct predictions switch getting to know as properly as function extraction, most new NLP fashions are generally skilled on a vast vary of data, in billions.\n",
       "\n",
       "These pre-trained fashions defeat the motive of coaching a mannequin from scratch except one is fascinated in investing an awful lot time and effort constructing one. Instead, the language fashions like BERT can effortlessly be fine-tuned and can be leveraged for the required tasks. However, the introduction of extra superior variations like GPT-3 has made the work even simpler for users, the place one simply has to explain the task, and with a click, one can create their favoured application. Such developments spotlight the reducing facet knowledge they bring.\n",
       "\n",
       "With that being said, it can be challenging for many to get a complete grasp of the evaluation between these pre-trained NLP fashions — case in point: GPT-3 and BERT. They no longer solely share many similarities however additionally the more recent fashions are constantly termed to surpass preceding fashions on some or the different parameters. Therefore, this article will recognize the overview of every model, alongside with their comparison.\n",
       "\n",
       "Both the fashions — GPT-3 and BERT have been enormously new for the industry; however, their trendy overall performance has made them the winners amongst different fashions in the herbal language processing field. However, being skilled on one hundred seventy-five billion parameters, GPT-3 turns into 470 instances better in dimension than BERT-Large.\n",
       "Secondly, whilst BERT requires an elaborated fine-tuning system the place customers have to collect statistics of examples to teach the mannequin for particular downstream tasks, GPT-3’s text-in and text-out API approves the customers to reprogram it the use of directions and get right of entry to it. Case in factor — for sentiment evaluation or query answering tasks, to use BERT, the customers have to educate the mannequin on a separate layer on sentence encodings. However, GPT-3 makes use of a few-shot gaining knowledge of system on the enter token to predict the output result.\n",
       "\n",
       "On normal NLP duties like laptop translation, answering questions, intricate arithmetic calculations or mastering new words, GPT-3 works flawlessly through conditioning it with a few examples — few-shot learning. Similarly, for textual content technology as well, GPT-3 works on a few prompts to rapidly churn out applicable outputs, with an accuracy of about 52%. OpenAI, simply, with the aid of growing the dimension of the mannequin and its education parameters created a mighty monster of a model.\n",
       "\n",
       "Transformers Simplified: A Hands-On Intro to Text Classification Using Simple Transformers\n",
       "Whereas, to recognize the context of the word, BERT is skilled on masks language mannequin tasks, the place it randomly masks 15% of phrases in every sequence to predict the outcome. Similarly, for sentence prediction, BERT is fed with a pair of sentences as enter and then receives skilled on a delivered auxiliary assignment for prediction. Here its tactics each sentence concerned to predict a binary label of the sentence prediction.\n",
       "\n",
       "On the structure dimension, whilst BERT is educated on latent relationship challenges between the textual content of unique contexts, GPT-3 education method is tremendously easy in contrast to BERT. Therefore, GPT-3 can be a desired preference at duties the place enough statistics is not available, with a broader vary of application. While the transformer consists of two separate mechanisms — encoder and decoder, the BERT mannequin solely works on encoding mechanisms to generate a language model; however, the GPT-3 combines encoding as nicely as decoding technique to get a transformer decoder for producing text.\n",
       "\n",
       "While GPT-3 is commercially handy by an API, however no longer open-sourced, BERT has been an open-source mannequin considering its inception that approves customers to fine-tune it in accordance with their needs. While GPT3 generates output one token at a time, BERT, on the different hand, is now not autoregressive, for that reason makes use of deep bidirectional context for predicting effect on sentiment evaluation and query answering.\n",
       "\n",
       "\")"
      ]
     },
     "execution_count": 77,
     "metadata": {},
     "output_type": "execute_result"
    }
   ],
   "source": [
    "#STRING CONVERTED TO SENTENCES\n",
    "blob_art = TextBlob(blog_gpt) # NOT-LIST OBJECT SHOULD BE USED.\n",
    "blob_art"
   ]
  },
  {
   "cell_type": "markdown",
   "metadata": {},
   "source": [
    "## Print words of first sentences"
   ]
  },
  {
   "cell_type": "code",
   "execution_count": 91,
   "metadata": {},
   "outputs": [
    {
     "name": "stdout",
     "output_type": "stream",
     "text": [
      "Introduction\n",
      "GPT-3\n",
      "Surpassing\n",
      "previous\n",
      "models\n",
      "’\n",
      "capabilities\n",
      "and\n",
      "accuracy\n",
      "OpenAI\n",
      "created\n",
      "one\n",
      "of\n",
      "the\n",
      "most\n",
      "controversial\n",
      "pre-trained\n",
      "NLP\n",
      "models\n",
      "—\n",
      "GPT-3\n",
      "after\n",
      "its\n",
      "major\n",
      "setback\n",
      "with\n",
      "GPT-2\n"
     ]
    }
   ],
   "source": [
    "# To Print words of first sentences\n",
    "for words in blob_art.sentences[0].words:\n",
    "  print(words)"
   ]
  },
  {
   "cell_type": "markdown",
   "metadata": {},
   "source": [
    "## NOUN PHRASE EXTRACTION: Analysing the WHO in the Sentences\n",
    "### The form of n-gram that takes center stage in NLP context analysis is the noun phrase.\n",
    "\n",
    "Noun phrases are part of speech patterns that include a noun. They can also include whatever other parts of speech make grammatical sense, and can include multiple nouns."
   ]
  },
  {
   "cell_type": "code",
   "execution_count": 92,
   "metadata": {},
   "outputs": [
    {
     "name": "stdout",
     "output_type": "stream",
     "text": [
      "bert\n",
      "gpt-3\n",
      "language model\n",
      "previous models\n"
     ]
    }
   ],
   "source": [
    "# NOUN-PHRASES extraction is particularly important when you want to analyze the “who” in a sentence.\n",
    "for np in blob_art.sentences[1].noun_phrases:\n",
    "  print(np)"
   ]
  },
  {
   "cell_type": "markdown",
   "metadata": {},
   "source": [
    "## Part-of-speech tagging"
   ]
  },
  {
   "cell_type": "markdown",
   "metadata": {},
   "source": [
    "Noun phrase extraction takes part of speech type into account when determining relevance. Many stop words are removed simply because they are a part of speech that is uninteresting for understanding context."
   ]
  },
  {
   "cell_type": "code",
   "execution_count": 93,
   "metadata": {},
   "outputs": [
    {
     "name": "stdout",
     "output_type": "stream",
     "text": [
      "The DT\n",
      "company NN\n",
      "has VBZ\n",
      "showcased VBN\n",
      "its PRP$\n",
      "extraordinary JJ\n",
      "performances NNS\n",
      "for IN\n",
      "tasks NNS\n",
      "like IN\n",
      "translation NN\n",
      "Q NNP\n",
      "& CC\n",
      "A NNP\n",
      "and CC\n",
      "unscrambling JJ\n",
      "words NNS\n"
     ]
    }
   ],
   "source": [
    "#it tells whether a word is a noun, or an adjective, or a verb, etc.\n",
    "for words, tag in blob_art.sentences[2].tags:\n",
    "  print(words, tag)\n",
    "\n",
    "  #Here, NN represents a noun, DT represents as a determiner, etc."
   ]
  },
  {
   "cell_type": "markdown",
   "metadata": {},
   "source": [
    "## Words Inflection and Lemmatization."
   ]
  },
  {
   "cell_type": "code",
   "execution_count": 101,
   "metadata": {},
   "outputs": [
    {
     "name": "stdout",
     "output_type": "stream",
     "text": [
      "company\n",
      "companies\n"
     ]
    }
   ],
   "source": [
    "\n",
    "#Inflection is a process of word formation \n",
    "#in which characters are added to the base form of a word to express grammatical meanings.\n",
    "print(blob_art.sentences[2].words[1])\n",
    "print(blob_art.sentences[2].words[1].pluralize())"
   ]
  },
  {
   "cell_type": "code",
   "execution_count": 104,
   "metadata": {},
   "outputs": [
    {
     "name": "stdout",
     "output_type": "stream",
     "text": [
      "NN word is- * \t Plurize word is- *s\n",
      "NN word is- building \t Plurize word is- buildings\n",
      "NN word is- code \t Plurize word is- codes\n",
      "NN word is- * \t Plurize word is- *s\n",
      "NN word is- language \t Plurize word is- languages\n",
      "NN word is- mannequin \t Plurize word is- mannequins\n",
      "NN word is- use \t Plurize word is- uses\n",
      "NN word is- mastering \t Plurize word is- masterings\n",
      "NN word is- text \t Plurize word is- texts\n"
     ]
    }
   ],
   "source": [
    "#We can also use the tags to inflect a particular type of words as shown below.\n",
    "for word,pos in blob_art.sentences[10].tags:\n",
    "  if pos == 'NN':\n",
    "    print(\"NN word is- \" + word, \"\\t Plurize word is- \" + word.pluralize())"
   ]
  },
  {
   "cell_type": "code",
   "execution_count": 116,
   "metadata": {},
   "outputs": [
    {
     "name": "stdout",
     "output_type": "stream",
     "text": [
      "generating\n"
     ]
    },
    {
     "data": {
      "text/plain": [
       "'generate'"
      ]
     },
     "execution_count": 116,
     "metadata": {},
     "output_type": "execute_result"
    }
   ],
   "source": [
    "#Words can be lemmatized using the lemmatize function.\n",
    "#lemmetization\n",
    "w=Word(blob_art.sentences[10].words[7])\n",
    "print(w)\n",
    "w.lemmatize(\"v\")\n",
    "#v here represents verb"
   ]
  },
  {
   "cell_type": "markdown",
   "metadata": {},
   "source": [
    "## **Sentiment analysis** \n",
    "is basically the process of determining the attitude or the emotion of the writer.\n",
    "\n",
    "The sentiment function of textblob returns two properties, polarity, and subjectivity. \n",
    "Polarity is float which lies in the range of [-1,1] where 1 means positive statement and -1 means a negative statement. \n",
    "\n",
    "Subjective sentences generally refer to personal opinion, emotion or judgment whereas objective refers to factual information. \n",
    "Subjectivity is also a float which lies in the range of [0,1]."
   ]
  },
  {
   "cell_type": "code",
   "execution_count": 117,
   "metadata": {},
   "outputs": [
    {
     "name": "stdout",
     "output_type": "stream",
     "text": [
      "Similar to BERT, GPT-3 is also a large-scale transformer-based language model, which is trained on 175 billion parameters and is 10x more than previous models.\n"
     ]
    },
    {
     "data": {
      "text/plain": [
       "Sentiment(polarity=0.13149901115587392, subjectivity=0.5122741637447521)"
      ]
     },
     "execution_count": 117,
     "metadata": {},
     "output_type": "execute_result"
    }
   ],
   "source": [
    "print (blob_art.sentences[1])\n",
    "blob_art.sentiment\n"
   ]
  },
  {
   "cell_type": "markdown",
   "metadata": {},
   "source": [
    "### Polarity = 0.13 means statement is very positive\n",
    "### Subjectivity = 0.51 refers that mostly it is a factual information."
   ]
  },
  {
   "cell_type": "code",
   "execution_count": 138,
   "metadata": {},
   "outputs": [
    {
     "data": {
      "text/plain": [
       "0.13149901115587392"
      ]
     },
     "execution_count": 138,
     "metadata": {},
     "output_type": "execute_result"
    }
   ],
   "source": [
    "#polarity ranges from -1 (most negative) to 1 (most positive)\n",
    "blob_art.sentiment.polarity"
   ]
  },
  {
   "cell_type": "code",
   "execution_count": 167,
   "metadata": {},
   "outputs": [
    {
     "name": "stdout",
     "output_type": "stream",
     "text": [
      "This Blog is about....\n",
      "cures\n",
      "codes\n",
      "%s\n",
      "dialogs\n",
      "buildings\n",
      "mannequins\n",
      "additions\n",
      "accuracies\n",
      "users\n",
      "pushes\n"
     ]
    }
   ],
   "source": [
    "#Create a short summary of Text\n",
    "import random\n",
    "\n",
    "blob_sum= blob_art\n",
    "nouns= list()\n",
    "\n",
    "for word, tag in blob_sum.tags:\n",
    "  if tag == 'NN':\n",
    "    nouns.append(word.lemmatize())\n",
    "print (\"This Blog is about....\")\n",
    "for item in random.sample(nouns, 10):\n",
    "  word= Word(item)\n",
    "  print (word.pluralize())"
   ]
  },
  {
   "cell_type": "markdown",
   "metadata": {},
   "source": [
    "## Wordcloud\n",
    "Wordcloud is a great way to represent text data. The size and color of each word that appears in the wordcloud indicate it’s frequency or importance."
   ]
  },
  {
   "cell_type": "code",
   "execution_count": null,
   "metadata": {},
   "outputs": [],
   "source": []
  },
  {
   "cell_type": "code",
   "execution_count": 186,
   "metadata": {},
   "outputs": [
    {
     "data": {
      "image/png": "[encoded data removed]",
      "text/plain": [
       "<Figure size 864x864 with 1 Axes>"
      ]
     },
     "metadata": {
      "needs_background": "light"
     },
     "output_type": "display_data"
    }
   ],
   "source": [
    "from wordcloud import WordCloud, STOPWORDS\n",
    "stopwords = set(stop_words)\n",
    "\n",
    "def show_wordcloud(data):\n",
    "    wordcloud = WordCloud(\n",
    "        background_color='white',\n",
    "        stopwords=stopwords,\n",
    "        max_words=100,\n",
    "        max_font_size=30,\n",
    "        scale=3,\n",
    "        random_state=1)\n",
    "   \n",
    "    wordcloud=wordcloud.generate(str(data))\n",
    "\n",
    "    fig = plt.figure(1, figsize=(12, 12))\n",
    "    plt.axis('off')\n",
    "\n",
    "    plt.imshow(wordcloud)\n",
    "    plt.show()\n",
    "\n",
    "show_wordcloud(filtered_sentence)"
   ]
  },
  {
   "cell_type": "markdown",
   "metadata": {},
   "source": [
    "## Again, you can see that the terms associated with the GPT are highlighted which indicates that these words occurred frequently in the Blog."
   ]
  },
  {
   "cell_type": "markdown",
   "metadata": {},
   "source": [
    "## Conclusion:\n",
    "### Characteristics & Key Achievements:\n",
    "•\tAutoregressive in nature.\n",
    "•\tGPT-3 showcases how a language model trained on a massive range of data can solve various NLP tasks without fine-tuning.\n",
    "•\tCan be applied to write news, generate articles as well as codes.\n",
    "•\tAchieved a score of 81.5 F1 on conversational question answering benchmark in zero-shot learning; 84.0 F1 in one-shot learning; and 85.0 F1 in few-shot learning.\n",
    "•\tAchieved 64.3% accuracy on TriviaAQ benchmark and 76.2% accuracy on LAMBADA, with zero-shot learning.\n",
    "\n",
    "### Applications:\n",
    "•\tFor building applications and websites\n",
    "•\tFor generating ML code\n",
    "•\tWriting articles and podcasts\n",
    "•\tFor legal documents and generating resumes\n"
   ]
  }
 ],
 "metadata": {
  "kernelspec": {
   "display_name": "Python 3",
   "language": "python",
   "name": "python3"
  },
  "language_info": {
   "codemirror_mode": {
    "name": "ipython",
    "version": 3
   },
   "file_extension": ".py",
   "mimetype": "text/x-python",
   "name": "python",
   "nbconvert_exporter": "python",
   "pygments_lexer": "ipython3",
   "version": "3.7.4"
  }
 },
 "nbformat": 4,
 "nbformat_minor": 2
}
